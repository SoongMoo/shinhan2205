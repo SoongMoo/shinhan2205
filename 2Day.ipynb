{
 "cells": [
  {
   "cell_type": "markdown",
   "id": "d0c8b889",
   "metadata": {},
   "source": [
    "제어문 : 조건식 : if, if ~ else, if ~ elif ~ else\n",
    "         반복문 : while, for\n",
    "함수"
   ]
  },
  {
   "cell_type": "code",
   "execution_count": 1,
   "id": "2c2e8748",
   "metadata": {},
   "outputs": [
    {
     "name": "stdout",
     "output_type": "stream",
     "text": [
      "나무를 1번 찍었습니다.\n",
      "나무를 2번 찍었습니다.\n",
      "나무를 3번 찍었습니다.\n",
      "나무를 4번 찍었습니다.\n",
      "나무를 5번 찍었습니다.\n",
      "나무를 6번 찍었습니다.\n",
      "나무를 7번 찍었습니다.\n",
      "나무를 8번 찍었습니다.\n",
      "나무를 9번 찍었습니다.\n",
      "나무를 10번 찍었습니다.\n",
      "나무가 넘어갑니다.\n"
     ]
    }
   ],
   "source": [
    "print(\"나무를 1번 찍었습니다.\")\n",
    "print(\"나무를 2번 찍었습니다.\")\n",
    "print(\"나무를 3번 찍었습니다.\")\n",
    "print(\"나무를 4번 찍었습니다.\")\n",
    "print(\"나무를 5번 찍었습니다.\")\n",
    "print(\"나무를 6번 찍었습니다.\")\n",
    "print(\"나무를 7번 찍었습니다.\")\n",
    "print(\"나무를 8번 찍었습니다.\")\n",
    "print(\"나무를 9번 찍었습니다.\")\n",
    "print(\"나무를 10번 찍었습니다.\")\n",
    "print(\"나무가 넘어갑니다.\")"
   ]
  },
  {
   "cell_type": "code",
   "execution_count": 7,
   "id": "b90a3245",
   "metadata": {},
   "outputs": [
    {
     "name": "stdout",
     "output_type": "stream",
     "text": [
      "10\n",
      "나무를 1번 찍었습니다.\n",
      "나무를 2번 찍었습니다.\n",
      "나무를 3번 찍었습니다.\n",
      "나무를 4번 찍었습니다.\n",
      "나무를 5번 찍었습니다.\n",
      "나무를 6번 찍었습니다.\n",
      "나무를 7번 찍었습니다.\n",
      "나무를 8번 찍었습니다.\n",
      "나무를 9번 찍었습니다.\n",
      "나무를 10번 찍었습니다.\n",
      "나무가 넘어갑니다.\n"
     ]
    }
   ],
   "source": [
    "a = 10\n",
    "b = a;\n",
    "print(b)\n",
    "i = 1 \n",
    "while i <= 10: # 1\n",
    "    # print(f\"나무를 {i}번 찍었습니다.\") # 2\n",
    "    # print(\"나무를 {0}번 찍었습니다.\".format(i))\n",
    "    print(\"나무를 {num}번 찍었습니다.\".format(num = i))\n",
    "    # print(\"나무를 %d번 찍었습니다.\" % i)\n",
    "    # 3\n",
    "    i = i + 1# i = 1 + 1 , i = 2 + 1, 1 = 10 + 1\n",
    "    # 1 - 2 - 3 - 1 - 2- 3 - ...- 1\n",
    "print(\"나무가 넘어갑니다.\")"
   ]
  },
  {
   "cell_type": "code",
   "execution_count": 9,
   "id": "41afd42e",
   "metadata": {},
   "outputs": [
    {
     "name": "stdout",
     "output_type": "stream",
     "text": [
      "8  * 1 = 8\n",
      "8  * 2 = 16\n",
      "8  * 3 = 24\n",
      "8  * 4 = 32\n",
      "8  * 5 = 40\n",
      "8  * 6 = 48\n",
      "8  * 7 = 56\n",
      "8  * 8 = 64\n",
      "8  * 9 = 72\n",
      "==============================\n",
      "8  * 1 = 8\n",
      "8  * 2 = 16\n",
      "8  * 3 = 24\n",
      "8  * 4 = 32\n",
      "8  * 5 = 40\n",
      "8  * 6 = 48\n",
      "8  * 7 = 56\n",
      "8  * 8 = 64\n",
      "8  * 9 = 72\n"
     ]
    }
   ],
   "source": [
    "# 8단 출력\n",
    "print(f\"8  * 1 = {8*1}\")\n",
    "print(f\"8  * 2 = {8*2}\")\n",
    "print(f\"8  * 3 = {8*3}\")\n",
    "print(f\"8  * 4 = {8*4}\")\n",
    "print(f\"8  * 5 = {8*5}\")\n",
    "print(f\"8  * 6 = {8*6}\")\n",
    "print(f\"8  * 7 = {8*7}\")\n",
    "print(f\"8  * 8 = {8*8}\")\n",
    "print(f\"8  * 9 = {8*9}\")\n",
    "\n",
    "print(\"=\" * 30)\n",
    "\n",
    "i = 1\n",
    "while i <= 9:\n",
    "    print(f\"8  * {i} = {8*i}\")\n",
    "    #i = i + 1\n",
    "    i += 1"
   ]
  },
  {
   "cell_type": "code",
   "execution_count": 11,
   "id": "47b1cab3",
   "metadata": {},
   "outputs": [
    {
     "name": "stdout",
     "output_type": "stream",
     "text": [
      "단을 입력하여 주세요. 5\n",
      "dan  * 1 = 5\n",
      "dan  * 2 = 10\n",
      "dan  * 3 = 15\n",
      "dan  * 4 = 20\n",
      "dan  * 5 = 25\n",
      "dan  * 6 = 30\n",
      "dan  * 7 = 35\n",
      "dan  * 8 = 40\n",
      "dan  * 9 = 45\n"
     ]
    }
   ],
   "source": [
    "dan = int(input(\"단을 입력하여 주세요. \")) # 5\n",
    "i = 1\n",
    "while i <= 9:\n",
    "    print(f\"dan  * {i} = {dan*i}\")\n",
    "    i += 1"
   ]
  },
  {
   "cell_type": "code",
   "execution_count": 13,
   "id": "0b21124e",
   "metadata": {},
   "outputs": [
    {
     "name": "stdout",
     "output_type": "stream",
     "text": [
      "5  * 1 = 5\n",
      "5  * 2 = 10\n",
      "5  * 3 = 15\n",
      "5  * 4 = 20\n",
      "5  * 5 = 25\n",
      "5  * 6 = 30\n",
      "5  * 7 = 35\n",
      "5  * 8 = 40\n",
      "5  * 9 = 45\n"
     ]
    }
   ],
   "source": [
    "# 5단 출력\n",
    "i = 1\n",
    "while i <= 9:\n",
    "    print(f\"5  * {i} = {5*i}\")\n",
    "    i += 1\n",
    "# 6단 출력\n",
    "i = 1\n",
    "while i <= 9:\n",
    "    print(f\"6  * {i} = {6*i}\")\n",
    "    i += 1\n",
    "# 7단 출력\n",
    "i = 1\n",
    "while i <= 9:\n",
    "    print(f\"7  * {i} = {7*i}\")\n",
    "    i += 1"
   ]
  },
  {
   "cell_type": "code",
   "execution_count": 15,
   "id": "005e2e78",
   "metadata": {},
   "outputs": [
    {
     "name": "stdout",
     "output_type": "stream",
     "text": [
      "5  * 1 = 5\n",
      "5  * 2 = 10\n",
      "5  * 3 = 15\n",
      "5  * 4 = 20\n",
      "5  * 5 = 25\n",
      "5  * 6 = 30\n",
      "5  * 7 = 35\n",
      "5  * 8 = 40\n",
      "5  * 9 = 45\n",
      "6  * 1 = 6\n",
      "6  * 2 = 12\n",
      "6  * 3 = 18\n",
      "6  * 4 = 24\n",
      "6  * 5 = 30\n",
      "6  * 6 = 36\n",
      "6  * 7 = 42\n",
      "6  * 8 = 48\n",
      "6  * 9 = 54\n",
      "7  * 1 = 7\n",
      "7  * 2 = 14\n",
      "7  * 3 = 21\n",
      "7  * 4 = 28\n",
      "7  * 5 = 35\n",
      "7  * 6 = 42\n",
      "7  * 7 = 49\n",
      "7  * 8 = 56\n",
      "7  * 9 = 63\n"
     ]
    }
   ],
   "source": [
    "# 2중 반복문\n",
    "dan = 5\n",
    "while dan <= 7:\n",
    "    i = 1\n",
    "    while i <= 9:\n",
    "        print(f\"{dan}  * {i} = {dan*i}\")\n",
    "        i += 1\n",
    "    dan += 1"
   ]
  },
  {
   "cell_type": "code",
   "execution_count": 16,
   "id": "fd7cd223",
   "metadata": {},
   "outputs": [
    {
     "name": "stdout",
     "output_type": "stream",
     "text": [
      "5  * 4 = 20\n",
      "5  * 5 = 25\n",
      "5  * 6 = 30\n",
      "5  * 7 = 35\n",
      "5  * 8 = 40\n",
      "6  * 4 = 24\n",
      "6  * 5 = 30\n",
      "6  * 6 = 36\n",
      "6  * 7 = 42\n",
      "6  * 8 = 48\n",
      "7  * 4 = 28\n",
      "7  * 5 = 35\n",
      "7  * 6 = 42\n",
      "7  * 7 = 49\n",
      "7  * 8 = 56\n"
     ]
    }
   ],
   "source": [
    "dan = 5\n",
    "while dan <= 7:\n",
    "    i = 4\n",
    "    while i <= 8:\n",
    "        print(f\"{dan}  * {i} = {dan*i}\")\n",
    "        i += 1\n",
    "    dan += 1"
   ]
  },
  {
   "cell_type": "code",
   "execution_count": 17,
   "id": "04d0abb7",
   "metadata": {},
   "outputs": [
    {
     "name": "stdout",
     "output_type": "stream",
     "text": [
      "시작단을 입력하세요.3\n",
      "마지막단을 입력하세요.5\n",
      "시작곱을 입력하세요.4\n",
      "마지막곱을 입력하세요.8\n",
      "3  * 4 = 12\n",
      "3  * 5 = 15\n",
      "3  * 6 = 18\n",
      "3  * 7 = 21\n",
      "3  * 8 = 24\n",
      "4  * 4 = 16\n",
      "4  * 5 = 20\n",
      "4  * 6 = 24\n",
      "4  * 7 = 28\n",
      "4  * 8 = 32\n",
      "5  * 4 = 20\n",
      "5  * 5 = 25\n",
      "5  * 6 = 30\n",
      "5  * 7 = 35\n",
      "5  * 8 = 40\n"
     ]
    }
   ],
   "source": [
    "startDan = int(input(\"시작단을 입력하세요.\"))\n",
    "endDan = int(input(\"마지막단을 입력하세요.\"))\n",
    "startGop = int(input(\"시작곱을 입력하세요.\"))\n",
    "endGop = int(input(\"마지막곱을 입력하세요.\"))\n",
    "dan = startDan\n",
    "while dan <= endDan:\n",
    "    i = startGop\n",
    "    while i <= endGop:\n",
    "        print(f\"{dan}  * {i} = {dan*i}\")\n",
    "        i += 1\n",
    "    dan += 1"
   ]
  },
  {
   "cell_type": "code",
   "execution_count": null,
   "id": "46ea8341",
   "metadata": {},
   "outputs": [],
   "source": []
  },
  {
   "cell_type": "code",
   "execution_count": 58,
   "id": "f19a10fc",
   "metadata": {},
   "outputs": [
    {
     "name": "stdout",
     "output_type": "stream",
     "text": [
      "[1, 2, 3, 4, 5, 6, 7, 8, 9, 10, 11, 12, 13, 14, 15, 16, 17, 18, 19, 20, 21, 22, 23, 24, 25, 26, 27, 28, 29, 30, 31, 32, 33, 34, 35, 36, 37, 38, 39, 40, 41, 42, 43, 44, 45]\n",
      "23,39,41,5,15,27,"
     ]
    }
   ],
   "source": [
    "import random\n",
    "lotto = [] #빈 리스트\n",
    "i = 1\n",
    "while i <= 45:\n",
    "    lotto.append(i)\n",
    "    i += 1\n",
    "print(lotto)\n",
    "# rnd = random.randint(0, 44) # index를 0 ~ 44\n",
    "# print(rnd)\n",
    "# print(lotto[12]) \n",
    "lottosize = len(lotto) # 45\n",
    "i = 1\n",
    "while i <= 6:\n",
    "    lottosize -= 1\n",
    "    idx = random.randint(0, lottosize)\n",
    "    lottonum = lotto.pop(idx)\n",
    "    print(lottonum, end = \",\")\n",
    "    i += 1"
   ]
  },
  {
   "cell_type": "code",
   "execution_count": 63,
   "id": "0779b37c",
   "metadata": {},
   "outputs": [
    {
     "name": "stdout",
     "output_type": "stream",
     "text": [
      "구매 수량을 입력하세요5\n",
      "15,9,30,40,39,3,\n",
      "22,12,39,8,44,29,\n",
      "24,26,23,6,25,1,\n",
      "2,33,26,11,23,40,\n",
      "32,21,16,25,36,38,\n"
     ]
    }
   ],
   "source": [
    "icnt = int(input(\"구매 수량을 입력하세요\"))\n",
    "j = 1 \n",
    "while j <= icnt:\n",
    "    lotto = [] # 빈 리스트\n",
    "    l = 1\n",
    "    while l <= 45:\n",
    "        lotto.append(l)\n",
    "        l += 1\n",
    "    lottosize = len(lotto) \n",
    "    i = 1\n",
    "    while i <= 6:\n",
    "        lottosize -= 1\n",
    "        idx = random.randint(0, lottosize)\n",
    "        lottonum = lotto.pop(idx)\n",
    "        print(lottonum, end = \",\")\n",
    "        i += 1\n",
    "    print()\n",
    "    j += 1"
   ]
  },
  {
   "cell_type": "code",
   "execution_count": 64,
   "id": "4e0f8bcc",
   "metadata": {},
   "outputs": [
    {
     "name": "stdout",
     "output_type": "stream",
     "text": [
      "5050\n"
     ]
    }
   ],
   "source": [
    "### 1 ~ 100까지의 합을 구하시오.\n",
    "i = 1\n",
    "sum = 0\n",
    "while i <= 100:\n",
    "    sum += i\n",
    "    i += 1\n",
    "print(sum)"
   ]
  },
  {
   "cell_type": "code",
   "execution_count": 66,
   "id": "5308c62b",
   "metadata": {},
   "outputs": [
    {
     "name": "stdout",
     "output_type": "stream",
     "text": [
      "5050\n"
     ]
    }
   ],
   "source": [
    "i = 1\n",
    "sum = 0\n",
    "while True:\n",
    "    if i > 100: # 반복을 중지 시킬 수 있다. \n",
    "        break\n",
    "    sum += i\n",
    "    i += 1\n",
    "print(sum)"
   ]
  },
  {
   "cell_type": "code",
   "execution_count": 70,
   "id": "d8cdf5f1",
   "metadata": {},
   "outputs": [
    {
     "name": "stdout",
     "output_type": "stream",
     "text": [
      "2\n",
      "4\n",
      "6\n",
      "8\n",
      "10\n",
      "12\n",
      "14\n",
      "16\n",
      "18\n",
      "20\n"
     ]
    }
   ],
   "source": [
    "# 1 ~ 20중 짝수만 출력하시오,\n",
    "i = 0\n",
    "while i < 20:\n",
    "    i += 1\n",
    "    if i % 2 != 0:\n",
    "        continue\n",
    "    print(i)\n",
    "    "
   ]
  },
  {
   "cell_type": "code",
   "execution_count": 72,
   "id": "b2fd8717",
   "metadata": {},
   "outputs": [
    {
     "name": "stdout",
     "output_type": "stream",
     "text": [
      "2500\n"
     ]
    }
   ],
   "source": [
    "# 1 ~ 100중 홀수의 합을 구하시오.\n",
    "i = 0\n",
    "sum = 0\n",
    "while i < 100:\n",
    "    i += 1\n",
    "    if i % 2 == 0:\n",
    "        continue\n",
    "    sum += i\n",
    "print(sum)    \n"
   ]
  },
  {
   "cell_type": "code",
   "execution_count": 78,
   "id": "9e68e40d",
   "metadata": {},
   "outputs": [
    {
     "name": "stdout",
     "output_type": "stream",
     "text": [
      "2500\n"
     ]
    }
   ],
   "source": [
    "# 1 ~ 100중 홀수의 합을 구하시오.\n",
    "i = 1\n",
    "sum = 0\n",
    "while i <= 100:\n",
    "    if i % 2 != 0:\n",
    "        sum += i\n",
    "    i += 1\n",
    "print(sum)"
   ]
  },
  {
   "cell_type": "code",
   "execution_count": 79,
   "id": "0a8a25a6",
   "metadata": {},
   "outputs": [
    {
     "name": "stdout",
     "output_type": "stream",
     "text": [
      "2500\n"
     ]
    }
   ],
   "source": [
    "# 1 ~ 100중 홀수의 합을 구하시오.\n",
    "i = 1\n",
    "sum = 0\n",
    "while True:\n",
    "    if i > 100:\n",
    "        break\n",
    "    if i % 2 != 0:\n",
    "        sum += i\n",
    "    i += 1\n",
    "print(sum)"
   ]
  },
  {
   "cell_type": "code",
   "execution_count": 81,
   "id": "4f21a75b",
   "metadata": {},
   "outputs": [
    {
     "name": "stdout",
     "output_type": "stream",
     "text": [
      "105\n",
      "105\n",
      "105\n"
     ]
    }
   ],
   "source": [
    "# 리스트에 있는 합을 구하시오\n",
    "l = [1,43,5, 56]\n",
    "idx = 0\n",
    "listsize = len(l)\n",
    "sum = 0\n",
    "while idx < listsize:\n",
    "    sum += l[idx]\n",
    "    idx+=1\n",
    "print(sum)\n",
    "\n",
    "#### for문으로 변경\n",
    "sum = 0\n",
    "for num in l: # [1,43,5, 56]\n",
    "    sum += num\n",
    "print(sum)\n",
    "\n",
    "t = (1,43,5, 56)\n",
    "sum = 0\n",
    "for num in t:\n",
    "    sum += num\n",
    "print(sum)"
   ]
  },
  {
   "cell_type": "code",
   "execution_count": 84,
   "id": "92ecb3a7",
   "metadata": {},
   "outputs": [
    {
     "name": "stdout",
     "output_type": "stream",
     "text": [
      "(1, 2)\n",
      "(3, 4)\n",
      "(5, 6)\n",
      "1 2\n",
      "3\n",
      "3 4\n",
      "7\n",
      "5 6\n",
      "11\n"
     ]
    }
   ],
   "source": [
    "l1 = [(1,2),(3,4),(5,6)]\n",
    "for num in l1:\n",
    "    print(num)\n",
    "\n",
    "for (a, b) in l1:\n",
    "    print(a , b)\n",
    "    print( a + b)"
   ]
  },
  {
   "cell_type": "code",
   "execution_count": 85,
   "id": "e1672a35",
   "metadata": {},
   "outputs": [
    {
     "name": "stdout",
     "output_type": "stream",
     "text": [
      "6\n",
      "12\n",
      "18\n"
     ]
    }
   ],
   "source": [
    "l1 = [(1,2,3),(3,4,5),(5,6,7)]\n",
    "for (a,b,c) in l1:\n",
    "    print( a+ b + c)"
   ]
  },
  {
   "cell_type": "code",
   "execution_count": 86,
   "id": "6cdcf2c9",
   "metadata": {},
   "outputs": [
    {
     "ename": "ValueError",
     "evalue": "too many values to unpack (expected 2)",
     "output_type": "error",
     "traceback": [
      "\u001b[1;31m---------------------------------------------------------------------------\u001b[0m",
      "\u001b[1;31mValueError\u001b[0m                                Traceback (most recent call last)",
      "Input \u001b[1;32mIn [86]\u001b[0m, in \u001b[0;36m<cell line: 2>\u001b[1;34m()\u001b[0m\n\u001b[0;32m      1\u001b[0m l1 \u001b[38;5;241m=\u001b[39m [(\u001b[38;5;241m1\u001b[39m,\u001b[38;5;241m2\u001b[39m,\u001b[38;5;241m3\u001b[39m),(\u001b[38;5;241m3\u001b[39m,\u001b[38;5;241m4\u001b[39m),(\u001b[38;5;241m5\u001b[39m,\u001b[38;5;241m6\u001b[39m,\u001b[38;5;241m7\u001b[39m)]\n\u001b[1;32m----> 2\u001b[0m \u001b[38;5;28;01mfor\u001b[39;00m (a,b) \u001b[38;5;129;01min\u001b[39;00m l1:\n\u001b[0;32m      3\u001b[0m     \u001b[38;5;28mprint\u001b[39m( a\u001b[38;5;241m+\u001b[39m b \u001b[38;5;241m+\u001b[39m c)\n",
      "\u001b[1;31mValueError\u001b[0m: too many values to unpack (expected 2)"
     ]
    }
   ],
   "source": [
    "l1 = [(1,2,3),(3,4),(5,6,7)]\n",
    "for (a,b) in l1:\n",
    "    print( a+ b + c)"
   ]
  },
  {
   "cell_type": "code",
   "execution_count": 89,
   "id": "3bac5e31",
   "metadata": {},
   "outputs": [
    {
     "name": "stdout",
     "output_type": "stream",
     "text": [
      "5050\n",
      "10100\n",
      "2550\n"
     ]
    }
   ],
   "source": [
    "i = 1\n",
    "sum = 0\n",
    "while i <= 100:\n",
    "    sum += i\n",
    "    i += 1\n",
    "print(sum)\n",
    "\n",
    "for num in range(1 , 1 + 100):\n",
    "    sum += num\n",
    "print(sum)\n",
    "\n",
    "# 1 ~ 100중 짝수만 더하시오. for문\n",
    "sum = 0\n",
    "for num in range(1, 101):\n",
    "    if num % 2 != 0:\n",
    "        continue\n",
    "    sum += num\n",
    "print(sum)"
   ]
  },
  {
   "cell_type": "code",
   "execution_count": 91,
   "id": "2de3421b",
   "metadata": {},
   "outputs": [
    {
     "name": "stdout",
     "output_type": "stream",
     "text": [
      "[3, 6, 9, 12]\n",
      "==============================\n",
      "[3, 6, 9, 12]\n"
     ]
    }
   ],
   "source": [
    "# a퓨플에 있는 값에 3을 더한 값을 빈 리스트에 저장하시오.\n",
    "a = (1,2,3,4)\n",
    "result = []\n",
    "for num in a:\n",
    "    result.append(num * 3)\n",
    "print(result)\n",
    "\n",
    "print(\"=\" * 30)\n",
    "result = [num * 3 for num in a]\n",
    "print(result)"
   ]
  },
  {
   "cell_type": "code",
   "execution_count": 105,
   "id": "5af74253",
   "metadata": {},
   "outputs": [
    {
     "name": "stdout",
     "output_type": "stream",
     "text": [
      "[6, 12]\n"
     ]
    }
   ],
   "source": [
    "# a튜플에서 값이 짝수인 것만 3을 곱한 값을 리스트에 추가하시오.\n",
    "a = (1,2,3,4)\n",
    "result = []\n",
    "for num in a:\n",
    "    if num % 2 == 0:\n",
    "        result.append(num * 3)\n",
    "print(result)\n",
    "\n",
    "result = [num * 3 for num in a\n",
    "                  if num % 2 == 0]"
   ]
  },
  {
   "cell_type": "code",
   "execution_count": 108,
   "id": "5d1e0279",
   "metadata": {},
   "outputs": [
    {
     "name": "stdout",
     "output_type": "stream",
     "text": [
      "18\n",
      "34\n"
     ]
    }
   ],
   "source": [
    "# 함수\n",
    "# f(x, y) = 2x + 3y\n",
    "# z = f(3, 4)\n",
    "\n",
    "def f(x, y):\n",
    "    return 2*x + 3*y\n",
    "\n",
    "z = f(3, 4)\n",
    "print(z)\n",
    "z =  f(5, 8)\n",
    "print(z)"
   ]
  },
  {
   "cell_type": "code",
   "execution_count": 110,
   "id": "d8233282",
   "metadata": {},
   "outputs": [
    {
     "name": "stdout",
     "output_type": "stream",
     "text": [
      "5 * 1 = 5\n",
      "5 * 2 = 10\n",
      "5 * 3 = 15\n",
      "5 * 4 = 20\n",
      "5 * 5 = 25\n",
      "5 * 6 = 30\n",
      "5 * 7 = 35\n",
      "5 * 8 = 40\n",
      "5 * 9 = 45\n"
     ]
    }
   ],
   "source": [
    "# 3단 \n",
    "# 5단\n",
    "# 9단\n",
    "\n",
    "for gop in range(1, 10):\n",
    "    print(f\"5 * {gop} = {5 * gop}\")\n",
    "\n",
    "def guguDan(dan):\n",
    "    for gop in range(1, 10):\n",
    "        print(f\"{dan} * {gop} = {dan * gop}\")"
   ]
  },
  {
   "cell_type": "code",
   "execution_count": 113,
   "id": "5128149a",
   "metadata": {},
   "outputs": [
    {
     "name": "stdout",
     "output_type": "stream",
     "text": [
      "3 * 1 = 3\n",
      "3 * 2 = 6\n",
      "3 * 3 = 9\n",
      "3 * 4 = 12\n",
      "3 * 5 = 15\n",
      "3 * 6 = 18\n",
      "3 * 7 = 21\n",
      "3 * 8 = 24\n",
      "3 * 9 = 27\n",
      "5 * 1 = 5\n",
      "5 * 2 = 10\n",
      "5 * 3 = 15\n",
      "5 * 4 = 20\n",
      "5 * 5 = 25\n",
      "5 * 6 = 30\n",
      "5 * 7 = 35\n",
      "5 * 8 = 40\n",
      "5 * 9 = 45\n",
      "9 * 1 = 9\n",
      "9 * 2 = 18\n",
      "9 * 3 = 27\n",
      "9 * 4 = 36\n",
      "9 * 5 = 45\n",
      "9 * 6 = 54\n",
      "9 * 7 = 63\n",
      "9 * 8 = 72\n",
      "9 * 9 = 81\n"
     ]
    }
   ],
   "source": [
    "guguDan(3)\n",
    "guguDan(5)\n",
    "guguDan(9)"
   ]
  },
  {
   "cell_type": "code",
   "execution_count": 117,
   "id": "c6b1e3a7",
   "metadata": {},
   "outputs": [],
   "source": [
    "# 3단출력\n",
    "def dan3():\n",
    "    for gop in range(1, 10):\n",
    "        print(f\"3 * {gop} = {3 * gop}\")\n",
    "def dan8():\n",
    "    for gop in range(1, 10):\n",
    "        print(f\"8 * {gop} = {8 * gop}\")"
   ]
  },
  {
   "cell_type": "code",
   "execution_count": 118,
   "id": "0312329b",
   "metadata": {},
   "outputs": [
    {
     "name": "stdout",
     "output_type": "stream",
     "text": [
      "8 * 1 = 8\n",
      "8 * 2 = 16\n",
      "8 * 3 = 24\n",
      "8 * 4 = 32\n",
      "8 * 5 = 40\n",
      "8 * 6 = 48\n",
      "8 * 7 = 56\n",
      "8 * 8 = 64\n",
      "8 * 9 = 72\n",
      "8 * 1 = 8\n",
      "8 * 2 = 16\n",
      "8 * 3 = 24\n",
      "8 * 4 = 32\n",
      "8 * 5 = 40\n",
      "8 * 6 = 48\n",
      "8 * 7 = 56\n",
      "8 * 8 = 64\n",
      "8 * 9 = 72\n",
      "8 * 1 = 8\n",
      "8 * 2 = 16\n",
      "8 * 3 = 24\n",
      "8 * 4 = 32\n",
      "8 * 5 = 40\n",
      "8 * 6 = 48\n",
      "8 * 7 = 56\n",
      "8 * 8 = 64\n",
      "8 * 9 = 72\n"
     ]
    }
   ],
   "source": [
    "dan8()\n",
    "dan8()\n",
    "dan8()"
   ]
  },
  {
   "cell_type": "code",
   "execution_count": 116,
   "id": "0d77d14a",
   "metadata": {},
   "outputs": [
    {
     "name": "stdout",
     "output_type": "stream",
     "text": [
      "3 * 1 = 3\n",
      "3 * 2 = 6\n",
      "3 * 3 = 9\n",
      "3 * 4 = 12\n",
      "3 * 5 = 15\n",
      "3 * 6 = 18\n",
      "3 * 7 = 21\n",
      "3 * 8 = 24\n",
      "3 * 9 = 27\n",
      "3 * 1 = 3\n",
      "3 * 2 = 6\n",
      "3 * 3 = 9\n",
      "3 * 4 = 12\n",
      "3 * 5 = 15\n",
      "3 * 6 = 18\n",
      "3 * 7 = 21\n",
      "3 * 8 = 24\n",
      "3 * 9 = 27\n",
      "3 * 1 = 3\n",
      "3 * 2 = 6\n",
      "3 * 3 = 9\n",
      "3 * 4 = 12\n",
      "3 * 5 = 15\n",
      "3 * 6 = 18\n",
      "3 * 7 = 21\n",
      "3 * 8 = 24\n",
      "3 * 9 = 27\n"
     ]
    }
   ],
   "source": [
    "dan3()\n",
    "dan3()\n",
    "dan3()"
   ]
  },
  {
   "cell_type": "code",
   "execution_count": null,
   "id": "adf1e6c1",
   "metadata": {},
   "outputs": [],
   "source": [
    "### 함수를 만드는 4가지 형식\n",
    "'''\n",
    "def 함수명(parameter):\n",
    "    명령어1\n",
    "    명령어2\n",
    "    ...\n",
    "    print(parameter)\n",
    "    return 결과값\n",
    "\n",
    "함수명(argument) : 인자 , 인수 : 실제 값을 가지고 있는 것\n",
    "'''"
   ]
  },
  {
   "cell_type": "code",
   "execution_count": 120,
   "id": "62900fa1",
   "metadata": {},
   "outputs": [
    {
     "name": "stdout",
     "output_type": "stream",
     "text": [
      "28\n"
     ]
    }
   ],
   "source": [
    "'''1. 일반적인 함수 : parameter도 있고 결과값이 있다.'''\n",
    "def f(x): # 피 호출함수\n",
    "    return 3 + x * 5  # return은 결과 값을 호출함수에게 전달\n",
    "\n",
    "z  = f(5)   # 호출함수\n",
    "print(z)"
   ]
  },
  {
   "cell_type": "code",
   "execution_count": 122,
   "id": "2a38efc7",
   "metadata": {},
   "outputs": [
    {
     "name": "stdout",
     "output_type": "stream",
     "text": [
      "7\n"
     ]
    }
   ],
   "source": [
    "def add1(x , y):\n",
    "    return x + y\n",
    "z = add1(3 , 4)\n",
    "print(z)"
   ]
  },
  {
   "cell_type": "code",
   "execution_count": 124,
   "id": "3235bc8d",
   "metadata": {},
   "outputs": [
    {
     "name": "stdout",
     "output_type": "stream",
     "text": [
      "40\n"
     ]
    }
   ],
   "source": [
    "'''2. 입력값은 없지만 .결과값이 있다.'''\n",
    "def add():\n",
    "    x = 10\n",
    "    y = 30\n",
    "    return x + y\n",
    "\n",
    "z = add()\n",
    "print(z)"
   ]
  },
  {
   "cell_type": "code",
   "execution_count": 126,
   "id": "c9229d58",
   "metadata": {},
   "outputs": [
    {
     "name": "stdout",
     "output_type": "stream",
     "text": [
      "숫자를 입력해 주세요30\n",
      "숫자를 입력해 주세요30\n",
      "60\n"
     ]
    }
   ],
   "source": [
    "def add():\n",
    "    x = int(input(\"숫자를 입력해 주세요\"))\n",
    "    y = int(input(\"숫자를 입력해 주세요\"))\n",
    "    return x + y\n",
    "\n",
    "z = add()\n",
    "print(z)"
   ]
  },
  {
   "cell_type": "code",
   "execution_count": 127,
   "id": "b0d20692",
   "metadata": {},
   "outputs": [
    {
     "name": "stdout",
     "output_type": "stream",
     "text": [
      "숫자를 입력해 주세요30\n",
      "숫자를 입력해 주세요40\n",
      "70\n"
     ]
    }
   ],
   "source": [
    "z = add()\n",
    "print(z)"
   ]
  },
  {
   "cell_type": "code",
   "execution_count": 128,
   "id": "41292164",
   "metadata": {},
   "outputs": [],
   "source": [
    "'''3.입력 값은 있으나 결과값이 없다.'''\n",
    "def add2(x, y):\n",
    "    result = x  + y\n",
    "    print(result)"
   ]
  },
  {
   "cell_type": "code",
   "execution_count": 129,
   "id": "afad8147",
   "metadata": {},
   "outputs": [
    {
     "name": "stdout",
     "output_type": "stream",
     "text": [
      "50\n",
      "None\n"
     ]
    }
   ],
   "source": [
    "z  = add2(30 , 20)\n",
    "print(z)"
   ]
  },
  {
   "cell_type": "code",
   "execution_count": 130,
   "id": "49e2b107",
   "metadata": {},
   "outputs": [],
   "source": [
    "'''4. 입력값도 없고 결과값도 없다.'''\n",
    "def add3():\n",
    "    x = int(input(\"숫자를 입력해 주세요\"))\n",
    "    y = int(input(\"숫자를 입력해 주세요\"))\n",
    "    print( x + y)"
   ]
  },
  {
   "cell_type": "code",
   "execution_count": 131,
   "id": "8939ed2d",
   "metadata": {},
   "outputs": [
    {
     "name": "stdout",
     "output_type": "stream",
     "text": [
      "숫자를 입력해 주세요20\n",
      "숫자를 입력해 주세요30\n",
      "50\n"
     ]
    }
   ],
   "source": [
    "add3()"
   ]
  },
  {
   "cell_type": "code",
   "execution_count": 137,
   "id": "64a953e5",
   "metadata": {},
   "outputs": [
    {
     "name": "stdout",
     "output_type": "stream",
     "text": [
      "36, 4, 23, 32, 25, 37, "
     ]
    }
   ],
   "source": [
    "lotto = []\n",
    "for n in range(1, 1 + 45):\n",
    "    lotto.append(n)\n",
    "# print(lotto)\n",
    "lottoSize = len(lotto)\n",
    "# print(lottoSize)\n",
    "j = 1\n",
    "while j <= 6:\n",
    "    lottoSize -= 1\n",
    "    idx = random.randint(0, lottoSize) #index\n",
    "    num = lotto.pop(idx)\n",
    "    print(num , end=\", \")\n",
    "    j += 1"
   ]
  },
  {
   "cell_type": "code",
   "execution_count": 138,
   "id": "4530f6c8",
   "metadata": {},
   "outputs": [],
   "source": [
    "def lottoFnc():\n",
    "    lotto = []\n",
    "    for n in range(1, 1 + 45):\n",
    "        lotto.append(n)\n",
    "    # print(lotto)\n",
    "    lottoSize = len(lotto)\n",
    "    # print(lottoSize)\n",
    "    j = 1\n",
    "    while j <= 6:\n",
    "        lottoSize -= 1\n",
    "        idx = random.randint(0, lottoSize) #index\n",
    "        num = lotto.pop(idx)\n",
    "        print(num , end=\", \")\n",
    "        j += 1"
   ]
  },
  {
   "cell_type": "code",
   "execution_count": 173,
   "id": "39085d2d",
   "metadata": {},
   "outputs": [
    {
     "name": "stdout",
     "output_type": "stream",
     "text": [
      "수량을 입력하세요.5\n",
      "14, 41, 30, 35, 2, 27, \n",
      "33, 36, 2, 13, 17, 40, \n",
      "25, 14, 41, 33, 27, 35, \n",
      "7, 2, 21, 36, 20, 1, \n",
      "7, 13, 3, 16, 14, 12, \n"
     ]
    }
   ],
   "source": [
    "num = int(input(\"수량을 입력하세요.\"))\n",
    "i = 1\n",
    "while i <= num:\n",
    "    lottoFnc()\n",
    "    print()\n",
    "    i += 1"
   ]
  },
  {
   "cell_type": "code",
   "execution_count": 174,
   "id": "c12fa11c",
   "metadata": {},
   "outputs": [
    {
     "name": "stdout",
     "output_type": "stream",
     "text": [
      "5050\n"
     ]
    }
   ],
   "source": [
    "# 1~~~100, 1~~~~1000, 50~~~~1000 에 해당하는 합계 값을 구하시오.\n",
    "sum = 0\n",
    "for i in range(1 , 1+ 100):\n",
    "    sum += i\n",
    "print(sum)"
   ]
  },
  {
   "cell_type": "code",
   "execution_count": 175,
   "id": "f3871ffc",
   "metadata": {},
   "outputs": [],
   "source": [
    "def sum1(start, end):\n",
    "    sum = 0\n",
    "    for i in range(start , 1+ end):\n",
    "        sum += i\n",
    "    print(sum)"
   ]
  },
  {
   "cell_type": "code",
   "execution_count": 179,
   "id": "fa78d9b6",
   "metadata": {},
   "outputs": [
    {
     "name": "stdout",
     "output_type": "stream",
     "text": [
      "5050\n",
      "500500\n",
      "499275\n"
     ]
    }
   ],
   "source": [
    "sum1(1, 100)\n",
    "sum1(1, 1000)\n",
    "sum1(50, 1000)"
   ]
  },
  {
   "cell_type": "code",
   "execution_count": 180,
   "id": "28f7a8c5",
   "metadata": {},
   "outputs": [],
   "source": [
    "def sum1(start, end):\n",
    "    sum = 0\n",
    "    for i in range(start , 1+ end):\n",
    "        sum += i\n",
    "    return sum"
   ]
  },
  {
   "cell_type": "code",
   "execution_count": 185,
   "id": "521f0a7c",
   "metadata": {},
   "outputs": [
    {
     "ename": "TypeError",
     "evalue": "sum1() takes 2 positional arguments but 3 were given",
     "output_type": "error",
     "traceback": [
      "\u001b[1;31m---------------------------------------------------------------------------\u001b[0m",
      "\u001b[1;31mTypeError\u001b[0m                                 Traceback (most recent call last)",
      "Input \u001b[1;32mIn [185]\u001b[0m, in \u001b[0;36m<cell line: 1>\u001b[1;34m()\u001b[0m\n\u001b[1;32m----> 1\u001b[0m z \u001b[38;5;241m=\u001b[39m \u001b[43msum1\u001b[49m\u001b[43m(\u001b[49m\u001b[38;5;241;43m10\u001b[39;49m\u001b[43m,\u001b[49m\u001b[43m \u001b[49m\u001b[38;5;241;43m1000\u001b[39;49m\u001b[43m,\u001b[49m\u001b[43m \u001b[49m\u001b[38;5;241;43m11111\u001b[39;49m\u001b[43m)\u001b[49m\n\u001b[0;32m      2\u001b[0m \u001b[38;5;28mprint\u001b[39m(z)\n",
      "\u001b[1;31mTypeError\u001b[0m: sum1() takes 2 positional arguments but 3 were given"
     ]
    }
   ],
   "source": [
    "z = sum1(10, 1000)\n",
    "print(z)"
   ]
  },
  {
   "cell_type": "code",
   "execution_count": 183,
   "id": "cb135c1c",
   "metadata": {},
   "outputs": [
    {
     "name": "stdout",
     "output_type": "stream",
     "text": [
      "500500\n"
     ]
    }
   ],
   "source": [
    "z = sum1(end = 1000, start =1 )\n",
    "print(z)"
   ]
  },
  {
   "cell_type": "code",
   "execution_count": 187,
   "id": "735be3fa",
   "metadata": {},
   "outputs": [
    {
     "name": "stdout",
     "output_type": "stream",
     "text": [
      "4\n",
      "7\n",
      "11\n",
      "56\n"
     ]
    }
   ],
   "source": [
    "def sum11(*para): ## argument의 갯수가 일정하지 않을 때 parameter에 *를 주면 된다.\n",
    "    sum = 1\n",
    "    for num  in para:\n",
    "        sum += num\n",
    "    print(sum)\n",
    "\n",
    "sum11(1,2)\n",
    "sum11(1,2,3)\n",
    "sum11(1,2,3,4)\n",
    "sum11(1,2,3,4,5,6,7,8,9,10)"
   ]
  },
  {
   "cell_type": "code",
   "execution_count": 193,
   "id": "bc9658ae",
   "metadata": {},
   "outputs": [],
   "source": [
    "def sum11(opt, *para):\n",
    "    sum = 0\n",
    "    if opt == \"add\":\n",
    "        for num in para:\n",
    "            sum += num\n",
    "    elif opt == \"mul\":\n",
    "        for num in para:\n",
    "            sum *= num\n",
    "    print(sum)"
   ]
  },
  {
   "cell_type": "code",
   "execution_count": 196,
   "id": "08805338",
   "metadata": {},
   "outputs": [
    {
     "name": "stdout",
     "output_type": "stream",
     "text": [
      "10\n",
      "0\n"
     ]
    }
   ],
   "source": [
    "sum11(\"add\", 1,2,3,4 )\n",
    "sum11(\"mul\", 1,2,3,4,45,5,5 )"
   ]
  },
  {
   "cell_type": "code",
   "execution_count": 197,
   "id": "84098225",
   "metadata": {},
   "outputs": [
    {
     "name": "stdout",
     "output_type": "stream",
     "text": [
      "10 20\n"
     ]
    }
   ],
   "source": [
    "a , b = (10, 20)\n",
    "print(a, b)"
   ]
  },
  {
   "cell_type": "code",
   "execution_count": 198,
   "id": "dd7b3709",
   "metadata": {},
   "outputs": [],
   "source": [
    "### return문에 의해 전달 되는 값은 오로지 하나이다.\n",
    "def add_mul(x , y):\n",
    "    i = x + y\n",
    "    j = x * y\n",
    "    return i, j"
   ]
  },
  {
   "cell_type": "code",
   "execution_count": 201,
   "id": "9201c10f",
   "metadata": {},
   "outputs": [
    {
     "name": "stdout",
     "output_type": "stream",
     "text": [
      "(50, 600)\n",
      "70 1000\n"
     ]
    }
   ],
   "source": [
    "z = add_mul(20, 30)\n",
    "print(z)\n",
    "x , y = add_mul(20,50)\n",
    "print(x, y)"
   ]
  },
  {
   "cell_type": "code",
   "execution_count": 202,
   "id": "e8671d3a",
   "metadata": {},
   "outputs": [],
   "source": [
    "def add_mul(x , y):\n",
    "    i = x + y\n",
    "    j = x * y\n",
    "    return i # return은 함수 종료\n",
    "    return j"
   ]
  },
  {
   "cell_type": "code",
   "execution_count": 206,
   "id": "04f5d414",
   "metadata": {},
   "outputs": [],
   "source": [
    "#### 매개변수에 초깃값 미리 설정하기 \n",
    "def say_myself(name, old, man = True):\n",
    "    print(\"나의 이름은 %s 입니다.\" % name) \n",
    "    print(\"나이는 %d살입니다.\" % old)\n",
    "    if man:\n",
    "        print(\"남자입니다.\")\n",
    "    else:\n",
    "        print(\"여자입니다.\")"
   ]
  },
  {
   "cell_type": "code",
   "execution_count": 207,
   "id": "6decf11f",
   "metadata": {},
   "outputs": [
    {
     "name": "stdout",
     "output_type": "stream",
     "text": [
      "나의 이름은 이숭무 입니다.\n",
      "나이는 25살입니다.\n",
      "남자입니다.\n",
      "나의 이름은 이상범 입니다.\n",
      "나이는 25살입니다.\n",
      "여자입니다.\n"
     ]
    }
   ],
   "source": [
    "say_myself('이숭무',25)\n",
    "say_myself('이상범',25, False)"
   ]
  },
  {
   "cell_type": "code",
   "execution_count": 208,
   "id": "72e7167d",
   "metadata": {},
   "outputs": [
    {
     "ename": "SyntaxError",
     "evalue": "non-default argument follows default argument (3525767680.py, line 1)",
     "output_type": "error",
     "traceback": [
      "\u001b[1;36m  Input \u001b[1;32mIn [208]\u001b[1;36m\u001b[0m\n\u001b[1;33m    def say_myself(name, old = 25, man):\u001b[0m\n\u001b[1;37m                                   ^\u001b[0m\n\u001b[1;31mSyntaxError\u001b[0m\u001b[1;31m:\u001b[0m non-default argument follows default argument\n"
     ]
    }
   ],
   "source": [
    "def say_myself(name, old = 25, man):\n",
    "    print(\"나의 이름은 %s 입니다.\" % name) \n",
    "    print(\"나이는 %d살입니다.\" % old)\n",
    "    if man:\n",
    "        print(\"남자입니다.\")\n",
    "    else:\n",
    "        print(\"여자입니다.\")\n",
    "        \n",
    "say_myself('이상범', False)"
   ]
  },
  {
   "cell_type": "code",
   "execution_count": 211,
   "id": "24818898",
   "metadata": {},
   "outputs": [
    {
     "name": "stdout",
     "output_type": "stream",
     "text": [
      "나의 이름은 노사연 입니다.\n",
      "나이는 25살입니다.\n",
      "남자입니다.\n",
      "나의 이름은 이상범 입니다.\n",
      "나이는 25살입니다.\n",
      "여자입니다.\n"
     ]
    }
   ],
   "source": [
    "def say_myself(name, old = 25, man = True):\n",
    "    print(\"나의 이름은 %s 입니다.\" % name) \n",
    "    print(\"나이는 %d살입니다.\" % old)\n",
    "    if man:\n",
    "        print(\"남자입니다.\")\n",
    "    else:\n",
    "        print(\"여자입니다.\")\n",
    "say_myself(\"노사연\")\n",
    "say_myself('이상범', False)\n",
    "say_myself('이상범', man = False)"
   ]
  },
  {
   "cell_type": "markdown",
   "id": "ed0f6ee7",
   "metadata": {},
   "source": [
    "파이썬의 기본 자료형 : 숫자, 문지열, 리스트, 튜플, 딕셔너리, 집합, 부울<br />\n",
    "제어문 : if , if ~ else, if ~ elif ~ else , 조건문<br />\n",
    "         while , for , break, continue : 번복문<br />\n",
    "함수"
   ]
  },
  {
   "cell_type": "code",
   "execution_count": 215,
   "id": "32bf1d02",
   "metadata": {},
   "outputs": [
    {
     "name": "stdout",
     "output_type": "stream",
     "text": [
      "[2 2 5 1 9 8]\n"
     ]
    }
   ],
   "source": [
    "# numpy (numerical python)\n",
    "import numpy\n",
    "num = numpy.random.randint(10, size = 6)\n",
    "print(num)"
   ]
  },
  {
   "cell_type": "code",
   "execution_count": 217,
   "id": "acc37649",
   "metadata": {},
   "outputs": [
    {
     "name": "stdout",
     "output_type": "stream",
     "text": [
      "[6 9 3 6 1 6]\n"
     ]
    }
   ],
   "source": [
    "import numpy as np\n",
    "num = np.random.randint(10, size = 6)\n",
    "print(num)"
   ]
  },
  {
   "cell_type": "code",
   "execution_count": 221,
   "id": "702bd9b2",
   "metadata": {
    "scrolled": true
   },
   "outputs": [
    {
     "name": "stdout",
     "output_type": "stream",
     "text": [
      "[6 9 3 6 1 6]\n",
      "[6, 9, 3, 6, 1, 6]\n",
      "9\n",
      "9\n"
     ]
    }
   ],
   "source": [
    "print(num) # 1차원 배열\n",
    "l = [6, 9, 3, 6, 1, 6]\n",
    "print(l)\n",
    "# index\n",
    "print(num[1])\n",
    "print(l[1])"
   ]
  },
  {
   "cell_type": "code",
   "execution_count": 224,
   "id": "0943b2d2",
   "metadata": {},
   "outputs": [
    {
     "name": "stdout",
     "output_type": "stream",
     "text": [
      "[[7 7 4 5]\n",
      " [5 4 8 6]\n",
      " [2 7 1 8]]\n",
      "[[6, 9, 9, 0], [8, 9, 1, 1], [7, 8, 9, 7]]\n"
     ]
    }
   ],
   "source": [
    "num2 = np.random.randint(10, size=(3, 4))  # 3 행 4열인 2차원 배열\n",
    "print(num2)\n",
    "l2 = [[6, 9, 9, 0] ,[8, 9 ,1 ,1],[7, 8, 9, 7]]\n",
    "print(l2)"
   ]
  },
  {
   "cell_type": "code",
   "execution_count": 225,
   "id": "b4b397f1",
   "metadata": {},
   "outputs": [
    {
     "name": "stdout",
     "output_type": "stream",
     "text": [
      "[6 9 3 6 1 6]\n",
      "[[9 2 9 9]]\n"
     ]
    }
   ],
   "source": [
    "num3 = np.random.randint(10, size=(1, 4))\n",
    "print(num) # 1차원 배열\n",
    "print(num3) # 2차원 배열"
   ]
  },
  {
   "cell_type": "code",
   "execution_count": 228,
   "id": "0a2090b1",
   "metadata": {},
   "outputs": [
    {
     "name": "stdout",
     "output_type": "stream",
     "text": [
      "[6 9 3 6 1 6]\n",
      "[6, 9, 3, 6, 1, 6]\n",
      "3\n",
      "3\n",
      "3\n",
      "3\n"
     ]
    }
   ],
   "source": [
    "### 1차원배열과 리스트 비교\n",
    "print(num) # [6 9 3 6 1 6] \n",
    "#             0 1 2 3 4 5\n",
    "#             6 5 4 3 2 1 -\n",
    "print(l) # [6, 9, 3, 6, 1, 6]\n",
    "#           0  1  2  3  4  5\n",
    "#           6  5  4  3  2  1  -\n",
    "print(num[2])\n",
    "print(l[2])\n",
    "print(num[-4])\n",
    "print(l[-4])"
   ]
  },
  {
   "cell_type": "code",
   "execution_count": 232,
   "id": "6028393c",
   "metadata": {},
   "outputs": [
    {
     "name": "stdout",
     "output_type": "stream",
     "text": [
      "[6 9 3 6]\n",
      "[6, 9, 3, 6]\n",
      "[6 9 3 6]\n",
      "[6, 9, 3, 6]\n",
      "[1 6]\n",
      "[1, 6]\n",
      "[1 6]\n",
      "[1, 6]\n"
     ]
    }
   ],
   "source": [
    "#slicing\n",
    "print(num[0:4])\n",
    "print(l[0:4])\n",
    "print(num[:4])\n",
    "print(l[:4])\n",
    "print(num[4:len(num)])\n",
    "print(l[4:len(l)])\n",
    "print(num[4: ])\n",
    "print(l[4:])"
   ]
  },
  {
   "cell_type": "code",
   "execution_count": 239,
   "id": "f5e07d2e",
   "metadata": {},
   "outputs": [
    {
     "name": "stdout",
     "output_type": "stream",
     "text": [
      "[6 9 3 6 1 6]\n",
      "[6, 9, 3, 6, 1, 6]\n",
      "[6 3 1]\n",
      "[6, 3, 1]\n",
      "[6 6]\n",
      "[6, 6]\n",
      "[3 1]\n",
      "[3, 1]\n",
      "[6 1 6 3 9 6]\n",
      "[6, 1, 6, 3, 9, 6]\n",
      "[6 6 9]\n",
      "[6, 6, 9]\n"
     ]
    }
   ],
   "source": [
    "print(num)\n",
    "print(l)\n",
    "print(num[::2])\n",
    "print(l[::2])\n",
    "print(num[::3])\n",
    "print(l[::3])\n",
    "print(num[2:6:2])\n",
    "print(l[2:6:2])\n",
    "print(num[::-1])\n",
    "print(l[::-1])\n",
    "print(num[::-2])\n",
    "print(l[::-2])"
   ]
  },
  {
   "cell_type": "code",
   "execution_count": 241,
   "id": "56a6d16b",
   "metadata": {},
   "outputs": [
    {
     "name": "stdout",
     "output_type": "stream",
     "text": [
      "[6, 9, 3, 6, 1, 6]\n",
      "[6 9 3 6 1 6]\n",
      "[6, 10, 3, 6, 1, 6]\n",
      "[ 6 10  3  6  1  6]\n"
     ]
    }
   ],
   "source": [
    "### 배열이나 리스트에 있는 값을 변경하는 방법도 같다.\n",
    "print(l)\n",
    "print(num)\n",
    "l[1] = 10\n",
    "num[1] = 10\n",
    "print(l)\n",
    "print(num)"
   ]
  },
  {
   "cell_type": "code",
   "execution_count": 243,
   "id": "e7861ee3",
   "metadata": {},
   "outputs": [
    {
     "name": "stdout",
     "output_type": "stream",
     "text": [
      "[[3 5 1 8]\n",
      " [1 8 4 1]\n",
      " [4 7 7 5]]\n"
     ]
    }
   ],
   "source": [
    "num2 = np.random.randint(10, size=(3, 4))\n",
    "print(num2)"
   ]
  },
  {
   "cell_type": "code",
   "execution_count": 245,
   "id": "c1d08d37",
   "metadata": {},
   "outputs": [],
   "source": [
    "l2 = [[3, 5, 1, 8],[1, 8, 4, 1],[4, 7, 7, 5]]"
   ]
  },
  {
   "cell_type": "code",
   "execution_count": 252,
   "id": "9ab397a9",
   "metadata": {},
   "outputs": [
    {
     "name": "stdout",
     "output_type": "stream",
     "text": [
      "[[3 5 1 8]\n",
      " [1 8 4 1]\n",
      " [4 7 7 5]]\n",
      "[[3, 5, 1, 8], [1, 8, 4, 1], [4, 7, 7, 5]]\n",
      "8\n",
      "8\n",
      "8\n",
      "8\n",
      "8\n",
      "8\n"
     ]
    }
   ],
   "source": [
    "print(num2)\n",
    "#   4 3 2 1 -\n",
    "#   0 1 2 3\n",
    "# [[3 5 1 8]    # 0    3\n",
    "#  [1 8 4 1]    # 1    2\n",
    "#  [4 7 7 5]]   # 2    1 -\n",
    "print(l2)\n",
    "# [[3, 5, 1, 8], [1, 8, 4, 1], [4, 7, 7, 5]]\n",
    "#       0              1             2\n",
    "#       3              2             1   -\n",
    "#   0  1  2  3    0  1  2  3    0  1  2  3\n",
    "print(num2[1][1])\n",
    "print(l2[1][1])\n",
    "print(num2[1 , 1]) # num2[행, 열]\n",
    "# print(l2[1 , 1])\n",
    "print(num2[-2][-3]) # list style\n",
    "print(l2[-2][-3])   \n",
    "print(num2[-2 ,-3]) # array style"
   ]
  },
  {
   "cell_type": "code",
   "execution_count": 268,
   "id": "1532ca54",
   "metadata": {},
   "outputs": [
    {
     "name": "stdout",
     "output_type": "stream",
     "text": [
      "[[3, 5, 1, 8], [1, 8, 4, 1]]\n",
      "[[3 5 1 8]\n",
      " [1 8 4 1]]\n",
      "[1, 8]\n",
      "[1 8]\n",
      "[1 8]\n",
      "[[3 5]\n",
      " [1 8]]\n",
      "[[3, 5, 1, 8], [1, 8, 4, 1]]\n",
      "[[3 1]\n",
      " [4 7]]\n"
     ]
    }
   ],
   "source": [
    "# slicing\n",
    "#   4 3 2 1 -\n",
    "#   0 1 2 3\n",
    "# [[3 5 1 8]    # 0    3\n",
    "#  [1 8 4 1]    # 1    2\n",
    "#  [4 7 7 5]]   # 2    1 -\n",
    "\n",
    "# [[3, 5, 1, 8], [1, 8, 4, 1], [4, 7, 7, 5]]\n",
    "#       0              1             2\n",
    "#       3              2             1   -\n",
    "#   0  1  2  3    0  1  2  3    0  1  2  3\n",
    "print(l[0:2])\n",
    "print(num2[0:2])\n",
    "print(l2[1][0:2])\n",
    "print(num2[1][0:2])\n",
    "print(num2[1, 0:2])\n",
    "print(num2[0:2 , 0:2 ])\n",
    "print(l2[0:2][0:2])\n",
    "print(num2[::2 , ::2])"
   ]
  },
  {
   "cell_type": "code",
   "execution_count": 271,
   "id": "6c73962b",
   "metadata": {},
   "outputs": [
    {
     "name": "stdout",
     "output_type": "stream",
     "text": [
      "[[3 1]\n",
      " [1 4]\n",
      " [4 7]]\n",
      "[[3 5 1 8]\n",
      " [4 7 7 5]]\n"
     ]
    }
   ],
   "source": [
    "### 열을 한칸씩 건너 띄우기\n",
    "print(num2[: , ::2])\n",
    "### 행을 한칸씩 건너 띄우기\n",
    "print(num2[::2, :])"
   ]
  },
  {
   "cell_type": "code",
   "execution_count": 272,
   "id": "79f8f27d",
   "metadata": {},
   "outputs": [
    {
     "name": "stdout",
     "output_type": "stream",
     "text": [
      "[[3 5 1]\n",
      " [1 8 4]]\n"
     ]
    }
   ],
   "source": [
    "# 두개의 행, 세개의 열\n",
    "print(num2[0:2, 0:3])"
   ]
  },
  {
   "cell_type": "code",
   "execution_count": 278,
   "id": "6aa8e498",
   "metadata": {},
   "outputs": [
    {
     "name": "stdout",
     "output_type": "stream",
     "text": [
      "[[4 7 7 5]\n",
      " [1 8 4 1]\n",
      " [3 5 1 8]]\n",
      "[[8 1 5 3]\n",
      " [1 4 8 1]\n",
      " [5 7 7 4]]\n",
      "[[5 7 7 4]\n",
      " [1 4 8 1]\n",
      " [8 1 5 3]]\n",
      "[3 5 1 8]\n",
      "[3 5 1 8]\n",
      "[3 1 4]\n",
      "[[99  5  1  8]\n",
      " [ 1  8  4  1]\n",
      " [ 4  7  7  5]]\n"
     ]
    }
   ],
   "source": [
    "#   4 3 2 1 -\n",
    "#   0 1 2 3\n",
    "# [[3 5 1 8]    # 0    3\n",
    "#  [1 8 4 1]    # 1    2\n",
    "#  [4 7 7 5]]   # 2    1 -\n",
    "print(num2[::-1])\n",
    "print(num2[: , :: -1])\n",
    "print(num2[::-1 , :: -1])\n",
    "### 첫번째 행만 출력\n",
    "print(num2[0])\n",
    "print(num2[0 , :])\n",
    "print(num2[:, 0])\n",
    "# 1행 1열의 값을 99로 변경하시오.\n",
    "num2[0][0] = 99\n",
    "print(num2)"
   ]
  },
  {
   "cell_type": "code",
   "execution_count": 286,
   "id": "a4e93ed4",
   "metadata": {},
   "outputs": [
    {
     "name": "stdout",
     "output_type": "stream",
     "text": [
      "[[0 1 2]\n",
      " [3 4 5]\n",
      " [6 7 8]]\n",
      "[[ 0  1  2  3]\n",
      " [ 4  5  6  7]\n",
      " [ 8  9 10 11]]\n",
      "[[ 0  1  2]\n",
      " [ 3  4  5]\n",
      " [ 6  7  8]\n",
      " [ 9 10 11]]\n",
      "[[12 13 14]\n",
      " [15 16 17]\n",
      " [18 19 20]\n",
      " [21 22 23]]\n",
      "[[0 1 2 3]]\n",
      "[1 2 3]\n"
     ]
    }
   ],
   "source": [
    "### 배열을 만드는 다른 방법\n",
    "#  0~8까지 9개의 수를 가지는 2차원 배열\n",
    "arr = np.arange(9).reshape(3,3)\n",
    "print(arr)\n",
    "arr1 = np.arange(12).reshape(3,4)\n",
    "print(arr1)\n",
    "arr2 = np.arange(12).reshape(4,3)\n",
    "print(arr2)\n",
    "arr3 = np.arange(12, 12+12).reshape(4,3)\n",
    "print(arr3)\n",
    "arr4 = np.arange(4).reshape(1, 4)\n",
    "print(arr4)\n",
    "\n",
    "# 1~3까지의 수를 가지는 1차원배열\n",
    "arr5 = np.arange(1, 1+3).reshape(3)\n",
    "print(arr5)"
   ]
  },
  {
   "cell_type": "code",
   "execution_count": null,
   "id": "1deadd7d",
   "metadata": {},
   "outputs": [],
   "source": []
  },
  {
   "cell_type": "code",
   "execution_count": null,
   "id": "3efaa7e7",
   "metadata": {},
   "outputs": [],
   "source": []
  },
  {
   "cell_type": "code",
   "execution_count": null,
   "id": "a2522336",
   "metadata": {},
   "outputs": [],
   "source": []
  },
  {
   "cell_type": "code",
   "execution_count": null,
   "id": "5ce24ab7",
   "metadata": {},
   "outputs": [],
   "source": []
  },
  {
   "cell_type": "code",
   "execution_count": null,
   "id": "cf5294d1",
   "metadata": {},
   "outputs": [],
   "source": []
  },
  {
   "cell_type": "code",
   "execution_count": null,
   "id": "14747aba",
   "metadata": {},
   "outputs": [],
   "source": []
  }
 ],
 "metadata": {
  "kernelspec": {
   "display_name": "Python 3 (ipykernel)",
   "language": "python",
   "name": "python3"
  },
  "language_info": {
   "codemirror_mode": {
    "name": "ipython",
    "version": 3
   },
   "file_extension": ".py",
   "mimetype": "text/x-python",
   "name": "python",
   "nbconvert_exporter": "python",
   "pygments_lexer": "ipython3",
   "version": "3.10.4"
  }
 },
 "nbformat": 4,
 "nbformat_minor": 5
}
