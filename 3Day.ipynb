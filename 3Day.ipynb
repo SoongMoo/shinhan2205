{
 "cells": [
  {
   "cell_type": "code",
   "execution_count": 3,
   "id": "b11d1aff",
   "metadata": {},
   "outputs": [],
   "source": [
    "import numpy as np"
   ]
  },
  {
   "cell_type": "code",
   "execution_count": 4,
   "id": "2ba47b60",
   "metadata": {},
   "outputs": [
    {
     "data": {
      "text/plain": [
       "array([1, 4, 2, 5, 3])"
      ]
     },
     "execution_count": 4,
     "metadata": {},
     "output_type": "execute_result"
    }
   ],
   "source": [
    "# 정수 배열:\n",
    "np.array([1, 4, 2, 5, 3])"
   ]
  },
  {
   "cell_type": "code",
   "execution_count": 5,
   "id": "e6730427",
   "metadata": {},
   "outputs": [
    {
     "data": {
      "text/plain": [
       "array([3.14, 4.  , 2.  , 3.  ])"
      ]
     },
     "execution_count": 5,
     "metadata": {},
     "output_type": "execute_result"
    }
   ],
   "source": [
    "np.array([3.14, 4, 2, 3])"
   ]
  },
  {
   "cell_type": "code",
   "execution_count": 6,
   "id": "9c1d3c7e",
   "metadata": {},
   "outputs": [
    {
     "data": {
      "text/plain": [
       "array([1., 2., 3., 4.], dtype=float32)"
      ]
     },
     "execution_count": 6,
     "metadata": {},
     "output_type": "execute_result"
    }
   ],
   "source": [
    "np.array([1, 2, 3, 4], dtype='float32')"
   ]
  },
  {
   "cell_type": "code",
   "execution_count": 9,
   "id": "8e741a12",
   "metadata": {},
   "outputs": [
    {
     "data": {
      "text/plain": [
       "array([0, 3, 6])"
      ]
     },
     "execution_count": 9,
     "metadata": {},
     "output_type": "execute_result"
    }
   ],
   "source": [
    "np.array([ num * 3 for num in range(3)]) "
   ]
  },
  {
   "cell_type": "code",
   "execution_count": 14,
   "id": "1cf3898a",
   "metadata": {},
   "outputs": [
    {
     "data": {
      "text/plain": [
       "array([[2, 3, 4],\n",
       "       [4, 5, 6],\n",
       "       [6, 7, 8]])"
      ]
     },
     "execution_count": 14,
     "metadata": {},
     "output_type": "execute_result"
    }
   ],
   "source": [
    "np.array([range(num, num + 3) for num in [2, 4, 6]])"
   ]
  },
  {
   "cell_type": "code",
   "execution_count": 16,
   "id": "8800f96e",
   "metadata": {},
   "outputs": [
    {
     "data": {
      "text/plain": [
       "array([0, 0, 0, 0, 0, 0, 0, 0, 0, 0])"
      ]
     },
     "execution_count": 16,
     "metadata": {},
     "output_type": "execute_result"
    }
   ],
   "source": [
    "np.zeros(10, dtype=int)"
   ]
  },
  {
   "cell_type": "code",
   "execution_count": 18,
   "id": "490c0cb0",
   "metadata": {},
   "outputs": [
    {
     "data": {
      "text/plain": [
       "array([1, 1, 1, 1, 1, 1, 1, 1, 1, 1])"
      ]
     },
     "execution_count": 18,
     "metadata": {},
     "output_type": "execute_result"
    }
   ],
   "source": [
    "np.ones(10, dtype=int)"
   ]
  },
  {
   "cell_type": "code",
   "execution_count": 22,
   "id": "c47db144",
   "metadata": {},
   "outputs": [
    {
     "data": {
      "text/plain": [
       "array([[1, 1, 1, 1, 1],\n",
       "       [1, 1, 1, 1, 1],\n",
       "       [1, 1, 1, 1, 1]])"
      ]
     },
     "execution_count": 22,
     "metadata": {},
     "output_type": "execute_result"
    }
   ],
   "source": [
    "np.ones((3, 5), dtype=int)"
   ]
  },
  {
   "cell_type": "code",
   "execution_count": 23,
   "id": "b675f0a2",
   "metadata": {},
   "outputs": [
    {
     "data": {
      "text/plain": [
       "array([3.14, 3.14, 3.14, 3.14, 3.14, 3.14, 3.14, 3.14, 3.14, 3.14])"
      ]
     },
     "execution_count": 23,
     "metadata": {},
     "output_type": "execute_result"
    }
   ],
   "source": [
    "np.full(10, 3.14)"
   ]
  },
  {
   "cell_type": "code",
   "execution_count": 24,
   "id": "0ee1a40f",
   "metadata": {},
   "outputs": [
    {
     "data": {
      "text/plain": [
       "array([[3.14, 3.14, 3.14, 3.14],\n",
       "       [3.14, 3.14, 3.14, 3.14],\n",
       "       [3.14, 3.14, 3.14, 3.14]])"
      ]
     },
     "execution_count": 24,
     "metadata": {},
     "output_type": "execute_result"
    }
   ],
   "source": [
    "np.full((3, 4), 3.14)"
   ]
  },
  {
   "cell_type": "code",
   "execution_count": 25,
   "id": "a655825b",
   "metadata": {},
   "outputs": [
    {
     "data": {
      "text/plain": [
       "array([ 0,  1,  2,  3,  4,  5,  6,  7,  8,  9, 10, 11, 12, 13, 14, 15, 16,\n",
       "       17, 18, 19])"
      ]
     },
     "execution_count": 25,
     "metadata": {},
     "output_type": "execute_result"
    }
   ],
   "source": [
    "np.arange(0, 20)"
   ]
  },
  {
   "cell_type": "code",
   "execution_count": 26,
   "id": "4c3b4235",
   "metadata": {},
   "outputs": [
    {
     "data": {
      "text/plain": [
       "array([ 0,  2,  4,  6,  8, 10, 12, 14, 16, 18])"
      ]
     },
     "execution_count": 26,
     "metadata": {},
     "output_type": "execute_result"
    }
   ],
   "source": [
    "np.arange(0, 20, 2)"
   ]
  },
  {
   "cell_type": "code",
   "execution_count": 31,
   "id": "8c41de84",
   "metadata": {},
   "outputs": [
    {
     "data": {
      "text/plain": [
       "array([0.  , 0.25, 0.5 , 0.75, 1.  ])"
      ]
     },
     "execution_count": 31,
     "metadata": {},
     "output_type": "execute_result"
    }
   ],
   "source": [
    "np.linspace(0, 1, 5)"
   ]
  },
  {
   "cell_type": "code",
   "execution_count": 32,
   "id": "77da880f",
   "metadata": {},
   "outputs": [
    {
     "data": {
      "text/plain": [
       "array([0.90785024, 0.60923212, 0.45380776, 0.96218921, 0.87093671,\n",
       "       0.13084187, 0.94172182, 0.239317  , 0.44139289, 0.84966808])"
      ]
     },
     "execution_count": 32,
     "metadata": {},
     "output_type": "execute_result"
    }
   ],
   "source": [
    "np.random.random(10) # 0~ 1사이에 있는 값"
   ]
  },
  {
   "cell_type": "code",
   "execution_count": 33,
   "id": "ae26e676",
   "metadata": {},
   "outputs": [
    {
     "data": {
      "text/plain": [
       "array([5, 2, 3])"
      ]
     },
     "execution_count": 33,
     "metadata": {},
     "output_type": "execute_result"
    }
   ],
   "source": [
    "np.random.randint(0, 10, 3)"
   ]
  },
  {
   "cell_type": "code",
   "execution_count": 34,
   "id": "2ce0f73c",
   "metadata": {},
   "outputs": [
    {
     "data": {
      "text/plain": [
       "array([[0, 9, 8],\n",
       "       [6, 8, 7],\n",
       "       [3, 7, 2]])"
      ]
     },
     "execution_count": 34,
     "metadata": {},
     "output_type": "execute_result"
    }
   ],
   "source": [
    "np.random.randint(0, 10, size=(3,3))"
   ]
  },
  {
   "cell_type": "code",
   "execution_count": 35,
   "id": "5db9e524",
   "metadata": {},
   "outputs": [
    {
     "data": {
      "text/plain": [
       "array([[  4.42474632,  -8.81551203,   6.74099157],\n",
       "       [  4.69067192,   9.32424273, -18.72825353],\n",
       "       [ -1.82977875,  10.25644073,   2.55056879]])"
      ]
     },
     "execution_count": 35,
     "metadata": {},
     "output_type": "execute_result"
    }
   ],
   "source": [
    "np.random.normal(0, 10, (3, 3)) # 표준 정규 분포"
   ]
  },
  {
   "cell_type": "code",
   "execution_count": 36,
   "id": "b90b836b",
   "metadata": {},
   "outputs": [
    {
     "data": {
      "text/plain": [
       "array([[1., 0., 0.],\n",
       "       [0., 1., 0.],\n",
       "       [0., 0., 1.]])"
      ]
     },
     "execution_count": 36,
     "metadata": {},
     "output_type": "execute_result"
    }
   ],
   "source": [
    "np.eye(3)"
   ]
  },
  {
   "cell_type": "code",
   "execution_count": 37,
   "id": "6a3d41df",
   "metadata": {},
   "outputs": [
    {
     "data": {
      "text/plain": [
       "array([1., 1., 1.])"
      ]
     },
     "execution_count": 37,
     "metadata": {},
     "output_type": "execute_result"
    }
   ],
   "source": [
    "np.empty(3)"
   ]
  },
  {
   "cell_type": "code",
   "execution_count": 134,
   "id": "25b921ef",
   "metadata": {},
   "outputs": [],
   "source": [
    "x1 = np.random.randint(10, size=6)\n",
    "x2 = np.random.randint(10, size=(3, 4))\n",
    "x3 = np.random.randint(10, size=(3, 4, 5))"
   ]
  },
  {
   "cell_type": "code",
   "execution_count": 136,
   "id": "caac322b",
   "metadata": {},
   "outputs": [
    {
     "name": "stdout",
     "output_type": "stream",
     "text": [
      "[6 8 1 8 4 1]\n",
      "[[3 6 5 3]\n",
      " [9 6 9 1]\n",
      " [9 4 2 6]]\n",
      "[[[7 8 8 9 2]\n",
      "  [0 6 7 8 1]\n",
      "  [7 1 4 0 8]\n",
      "  [5 4 7 8 8]]\n",
      "\n",
      " [[2 6 2 8 8]\n",
      "  [6 6 5 6 0]\n",
      "  [0 6 9 1 8]\n",
      "  [9 1 2 8 9]]\n",
      "\n",
      " [[9 5 0 2 7]\n",
      "  [3 0 4 2 0]\n",
      "  [3 3 1 2 5]\n",
      "  [9 0 1 0 1]]]\n"
     ]
    }
   ],
   "source": [
    "print(x1)\n",
    "print(x2)\n",
    "print(x3)"
   ]
  },
  {
   "cell_type": "code",
   "execution_count": 145,
   "id": "a1f55c57",
   "metadata": {},
   "outputs": [
    {
     "data": {
      "text/plain": [
       "dtype('int32')"
      ]
     },
     "execution_count": 145,
     "metadata": {},
     "output_type": "execute_result"
    }
   ],
   "source": [
    "x1.shape # 배열의 크기\n",
    "x2.shape\n",
    "x1.ndim # 차원\n",
    "x2.ndim \n",
    "x3.ndim\n",
    "x1.size  # 배열의 요소의 갯수\n",
    "x2.size\n",
    "x1.dtype\n",
    "x2.dtype"
   ]
  },
  {
   "cell_type": "code",
   "execution_count": 148,
   "id": "e42a03e4",
   "metadata": {},
   "outputs": [
    {
     "data": {
      "text/plain": [
       "array([[3, 6, 5, 3],\n",
       "       [9, 6, 9, 1],\n",
       "       [9, 4, 2, 6]])"
      ]
     },
     "execution_count": 148,
     "metadata": {},
     "output_type": "execute_result"
    }
   ],
   "source": [
    "x2\n",
    "x2.dtype\n",
    "x2[0,0] = 3.14\n",
    "x2"
   ]
  },
  {
   "cell_type": "code",
   "execution_count": 156,
   "id": "e5787d6f",
   "metadata": {},
   "outputs": [
    {
     "data": {
      "text/plain": [
       "array([1, 3, 5, 7, 9])"
      ]
     },
     "execution_count": 156,
     "metadata": {},
     "output_type": "execute_result"
    }
   ],
   "source": [
    "x = np.arange(10)\n",
    "x\n",
    "x[0:5]\n",
    "x[:5]\n",
    "x[5:]\n",
    "x[4:7]\n",
    "x[::2]\n",
    "x[1::2]\n",
    "x[::-1]\n",
    "x[5::-2]"
   ]
  },
  {
   "cell_type": "code",
   "execution_count": 158,
   "id": "f3949a03",
   "metadata": {},
   "outputs": [
    {
     "data": {
      "text/plain": [
       "array([[3, 6, 5, 3],\n",
       "       [9, 6, 9, 1],\n",
       "       [9, 4, 2, 6]])"
      ]
     },
     "execution_count": 158,
     "metadata": {},
     "output_type": "execute_result"
    }
   ],
   "source": [
    "x2"
   ]
  },
  {
   "cell_type": "code",
   "execution_count": 165,
   "id": "c99f48f1",
   "metadata": {},
   "outputs": [
    {
     "data": {
      "text/plain": [
       "array([3, 6, 5, 3])"
      ]
     },
     "execution_count": 165,
     "metadata": {},
     "output_type": "execute_result"
    }
   ],
   "source": [
    "x2[2, 3]\n",
    "x2[:2, :3]\n",
    "x2[:3, ::2]\n",
    "x2[::-1]\n",
    "x2[: , ::-1]\n",
    "x2[::-1 , ::-1]\n",
    "x2[:, 0]\n",
    "x2[0, :] \n",
    "x2[0] # 0행"
   ]
  },
  {
   "cell_type": "code",
   "execution_count": 166,
   "id": "38471ef6",
   "metadata": {},
   "outputs": [
    {
     "data": {
      "text/plain": [
       "array([[3, 6],\n",
       "       [9, 6]])"
      ]
     },
     "execution_count": 166,
     "metadata": {},
     "output_type": "execute_result"
    }
   ],
   "source": [
    "x2_sub = x2[:2, :2]\n",
    "x2_sub "
   ]
  },
  {
   "cell_type": "code",
   "execution_count": 167,
   "id": "327653a4",
   "metadata": {},
   "outputs": [
    {
     "data": {
      "text/plain": [
       "array([[99,  6],\n",
       "       [ 9,  6]])"
      ]
     },
     "execution_count": 167,
     "metadata": {},
     "output_type": "execute_result"
    }
   ],
   "source": [
    "x2_sub[0, 0] = 99\n",
    "x2_sub "
   ]
  },
  {
   "cell_type": "code",
   "execution_count": 168,
   "id": "1d513a41",
   "metadata": {},
   "outputs": [
    {
     "data": {
      "text/plain": [
       "array([[99,  6,  5,  3],\n",
       "       [ 9,  6,  9,  1],\n",
       "       [ 9,  4,  2,  6]])"
      ]
     },
     "execution_count": 168,
     "metadata": {},
     "output_type": "execute_result"
    }
   ],
   "source": [
    "x2"
   ]
  },
  {
   "cell_type": "code",
   "execution_count": 170,
   "id": "6ceb54d3",
   "metadata": {},
   "outputs": [
    {
     "data": {
      "text/plain": [
       "array([[99,  6],\n",
       "       [ 9,  6]])"
      ]
     },
     "execution_count": 170,
     "metadata": {},
     "output_type": "execute_result"
    }
   ],
   "source": [
    "x2_sub_copy = x2[:2, :2].copy()\n",
    "x2_sub_copy"
   ]
  },
  {
   "cell_type": "code",
   "execution_count": 171,
   "id": "ef3c29c9",
   "metadata": {},
   "outputs": [
    {
     "data": {
      "text/plain": [
       "array([[10,  6],\n",
       "       [ 9,  6]])"
      ]
     },
     "execution_count": 171,
     "metadata": {},
     "output_type": "execute_result"
    }
   ],
   "source": [
    "x2_sub_copy[0,0] = 10\n",
    "x2_sub_copy"
   ]
  },
  {
   "cell_type": "code",
   "execution_count": 172,
   "id": "585e5fb2",
   "metadata": {},
   "outputs": [
    {
     "data": {
      "text/plain": [
       "array([[99,  6,  5,  3],\n",
       "       [ 9,  6,  9,  1],\n",
       "       [ 9,  4,  2,  6]])"
      ]
     },
     "execution_count": 172,
     "metadata": {},
     "output_type": "execute_result"
    }
   ],
   "source": [
    "x2"
   ]
  },
  {
   "cell_type": "code",
   "execution_count": 176,
   "id": "eb1a7fc4",
   "metadata": {},
   "outputs": [
    {
     "data": {
      "text/plain": [
       "array([[1, 2, 3],\n",
       "       [4, 5, 6],\n",
       "       [7, 8, 9]])"
      ]
     },
     "execution_count": 176,
     "metadata": {},
     "output_type": "execute_result"
    }
   ],
   "source": [
    "grid = np.arange(1, 10).reshape((3, 3))\n",
    "grid"
   ]
  },
  {
   "cell_type": "code",
   "execution_count": 187,
   "id": "3887f477",
   "metadata": {},
   "outputs": [
    {
     "data": {
      "text/plain": [
       "array([[1],\n",
       "       [2],\n",
       "       [3]])"
      ]
     },
     "execution_count": 187,
     "metadata": {},
     "output_type": "execute_result"
    }
   ],
   "source": [
    "x = np.array([1, 2, 3])\n",
    "x\n",
    "x.reshape((1,3)) #reshape을 이용해서 1차원 배열을 2배열로 변경 1행 3열\n",
    "x\n",
    "y = x.reshape((1,3))\n",
    "y\n",
    "x[np.newaxis, :] #np.newaxis을 이용해서 1차원 배열을 2배열로 변경\n",
    "x.reshape((3,1))  # 3행 1열인 2차원배열\n",
    "x[ :, np.newaxis] # newaxis를 이용한 열 벡터"
   ]
  },
  {
   "cell_type": "code",
   "execution_count": 189,
   "id": "2101ac80",
   "metadata": {},
   "outputs": [
    {
     "data": {
      "text/plain": [
       "array([ 1,  2,  3,  3,  2,  1, 99, 99, 99])"
      ]
     },
     "execution_count": 189,
     "metadata": {},
     "output_type": "execute_result"
    }
   ],
   "source": [
    "# 배열 연결하기 \n",
    "x = np.array([1, 2, 3])\n",
    "y = np.array([3, 2, 1])\n",
    "np.concatenate([x, y])\n",
    "z = [99, 99, 99]\n",
    "np.concatenate([x, y, z])"
   ]
  },
  {
   "cell_type": "code",
   "execution_count": 193,
   "id": "8dd200fc",
   "metadata": {},
   "outputs": [
    {
     "data": {
      "text/plain": [
       "array([[1, 2, 3],\n",
       "       [4, 5, 6],\n",
       "       [1, 2, 3],\n",
       "       [4, 5, 6]])"
      ]
     },
     "execution_count": 193,
     "metadata": {},
     "output_type": "execute_result"
    }
   ],
   "source": [
    "grid = np.array([[1, 2, 3],\n",
    "                 [4, 5, 6]])\n",
    "np.concatenate([grid, grid]) # 크기가 같아야 연결 할 수 있다.\n",
    "np.concatenate([grid, grid], axis=1) # y축\n",
    "np.concatenate([grid, grid], axis=0)  # x축"
   ]
  },
  {
   "cell_type": "code",
   "execution_count": 195,
   "id": "c462a20d",
   "metadata": {},
   "outputs": [
    {
     "data": {
      "text/plain": [
       "array([[1, 2, 3],\n",
       "       [1, 2, 3],\n",
       "       [4, 5, 6]])"
      ]
     },
     "execution_count": 195,
     "metadata": {},
     "output_type": "execute_result"
    }
   ],
   "source": [
    "x = np.array([1, 2, 3])\n",
    "# np.concatenate([x,  grid])\n",
    "np.vstack([x, grid])"
   ]
  },
  {
   "cell_type": "code",
   "execution_count": 199,
   "id": "d755ceb0",
   "metadata": {},
   "outputs": [
    {
     "data": {
      "text/plain": [
       "array([[1, 2, 3, 1],\n",
       "       [4, 5, 6, 2]])"
      ]
     },
     "execution_count": 199,
     "metadata": {},
     "output_type": "execute_result"
    }
   ],
   "source": [
    "grid\n",
    "x = np.array([1, 2])[:,np.newaxis ]\n",
    "x\n",
    "np.hstack([grid, x])\n",
    "y = np.array([[99],\n",
    "              [99]])\n",
    "np.hstack([grid, y])"
   ]
  },
  {
   "cell_type": "code",
   "execution_count": 202,
   "id": "99d9f932",
   "metadata": {},
   "outputs": [
    {
     "data": {
      "text/plain": [
       "array([5, 6, 7, 8])"
      ]
     },
     "execution_count": 202,
     "metadata": {},
     "output_type": "execute_result"
    }
   ],
   "source": [
    "x = np.arange(4)\n",
    "x\n",
    "y = np.array([5,5,5,5])\n",
    "z  = x + y\n",
    "z"
   ]
  },
  {
   "cell_type": "code",
   "execution_count": 203,
   "id": "ab183e2a",
   "metadata": {},
   "outputs": [
    {
     "data": {
      "text/plain": [
       "array([5, 6, 7, 8])"
      ]
     },
     "execution_count": 203,
     "metadata": {},
     "output_type": "execute_result"
    }
   ],
   "source": [
    "z = x + 5\n",
    "z"
   ]
  },
  {
   "cell_type": "code",
   "execution_count": 206,
   "id": "ea5c09e1",
   "metadata": {},
   "outputs": [
    {
     "name": "stdout",
     "output_type": "stream",
     "text": [
      "x + 5 = [5 6 7 8]\n",
      "x + 5 = [5 6 7 8]\n"
     ]
    }
   ],
   "source": [
    "print(\"x + 5 =\", x + 5)\n",
    "print(\"x + 5 =\", np.add(x, 5))"
   ]
  },
  {
   "cell_type": "code",
   "execution_count": 209,
   "id": "6d002100",
   "metadata": {},
   "outputs": [
    {
     "name": "stdout",
     "output_type": "stream",
     "text": [
      "49.7 ms ± 341 µs per loop (mean ± std. dev. of 7 runs, 10 loops each)\n",
      "341 µs ± 14.3 µs per loop (mean ± std. dev. of 7 runs, 1,000 loops each)\n"
     ]
    }
   ],
   "source": [
    "big_array = np.random.rand(1000000)\n",
    "big_array\n",
    "%timeit sum(big_array)\n",
    "%timeit np.sum(big_array)"
   ]
  },
  {
   "cell_type": "code",
   "execution_count": null,
   "id": "591a5337",
   "metadata": {},
   "outputs": [],
   "source": [
    "min(big_array)\n",
    "np.min(big_array)"
   ]
  },
  {
   "cell_type": "code",
   "execution_count": 210,
   "id": "4ba63399",
   "metadata": {},
   "outputs": [
    {
     "data": {
      "text/plain": [
       "array([[0.10391485, 0.13146253, 0.67698464, 0.7297914 ],\n",
       "       [0.68613558, 0.99626729, 0.63597982, 0.24961094],\n",
       "       [0.18471382, 0.57828831, 0.18686642, 0.28504192]])"
      ]
     },
     "execution_count": 210,
     "metadata": {},
     "output_type": "execute_result"
    }
   ],
   "source": [
    "M = np.random.random((3, 4))\n",
    "M"
   ]
  },
  {
   "cell_type": "code",
   "execution_count": 214,
   "id": "0b47d0ad",
   "metadata": {},
   "outputs": [
    {
     "data": {
      "text/plain": [
       "array([1.64215341, 2.56799364, 1.23491048])"
      ]
     },
     "execution_count": 214,
     "metadata": {},
     "output_type": "execute_result"
    }
   ],
   "source": [
    "np.sum(M)\n",
    "M.sum()\n",
    "M.sum(axis=0)\n",
    "M.sum(axis=1)"
   ]
  },
  {
   "cell_type": "code",
   "execution_count": 222,
   "id": "503b685b",
   "metadata": {},
   "outputs": [
    {
     "name": "stdout",
     "output_type": "stream",
     "text": [
      "179.73809523809524\n",
      "163\n",
      "174.25\n",
      "182.0\n",
      "183.0\n",
      "193\n"
     ]
    }
   ],
   "source": [
    "import pandas as pd\n",
    "data = pd.read_csv(\n",
    "    \"https://raw.githubusercontent.com/wikibook/python-ds-handbook/master/notebooks/data/president_heights.csv\")\n",
    "data['height(cm)']\n",
    "heights = np.array(data['height(cm)'])\n",
    "print(heights.mean()) # 179.73809523809524\n",
    "print(heights.min()) # 0사분위\n",
    "print(np.percentile(heights, 25))  # 1사분위 174.25\n",
    "print(np.median(heights)) # 2사분위   182.0\n",
    "print(np.percentile(heights, 75))  # 3사분위\n",
    "print(heights.max()) # 4사분위"
   ]
  },
  {
   "cell_type": "code",
   "execution_count": 226,
   "id": "d2678fc7",
   "metadata": {},
   "outputs": [
    {
     "data": {
      "image/png": "[encoded data removed]",
      "text/plain": [
       "<Figure size 432x288 with 1 Axes>"
      ]
     },
     "metadata": {
      "needs_background": "light"
     },
     "output_type": "display_data"
    }
   ],
   "source": [
    "import matplotlib.pyplot as plt\n",
    "import matplotlib as mpl\n",
    "\n",
    "font_name = mpl.font_manager.FontProperties(fname=\"C:\\Windows\\Fonts\\malgun.ttf\")\\\n",
    "               .get_name()\n",
    "mpl.rc('font',family=font_name)\n",
    "\n",
    "plt.hist(heights) # 분포도\n",
    "plt.title(\"미국 대통령의 키 분포\")\n",
    "plt.xlabel('height (cm)')\n",
    "plt.ylabel('명');"
   ]
  },
  {
   "cell_type": "code",
   "execution_count": 227,
   "id": "dad7a0f0",
   "metadata": {},
   "outputs": [
    {
     "data": {
      "text/plain": [
       "array([5, 6, 7])"
      ]
     },
     "execution_count": 227,
     "metadata": {},
     "output_type": "execute_result"
    }
   ],
   "source": [
    "a = np.array([0, 1, 2])\n",
    "b = np.array([5, 5, 5])\n",
    "a + b"
   ]
  },
  {
   "cell_type": "code",
   "execution_count": 228,
   "id": "2b7230eb",
   "metadata": {},
   "outputs": [
    {
     "data": {
      "text/plain": [
       "array([5, 6, 7])"
      ]
     },
     "execution_count": 228,
     "metadata": {},
     "output_type": "execute_result"
    }
   ],
   "source": [
    "a + 5"
   ]
  },
  {
   "cell_type": "code",
   "execution_count": 232,
   "id": "019c1368",
   "metadata": {},
   "outputs": [
    {
     "data": {
      "text/plain": [
       "array([[1., 1., 1.],\n",
       "       [1., 1., 1.],\n",
       "       [1., 1., 1.]])"
      ]
     },
     "execution_count": 232,
     "metadata": {},
     "output_type": "execute_result"
    }
   ],
   "source": [
    "M = np.ones((3, 3))\n",
    "M"
   ]
  },
  {
   "cell_type": "code",
   "execution_count": 233,
   "id": "acbceac7",
   "metadata": {},
   "outputs": [
    {
     "data": {
      "text/plain": [
       "array([[1., 2., 3.],\n",
       "       [1., 2., 3.],\n",
       "       [1., 2., 3.]])"
      ]
     },
     "execution_count": 233,
     "metadata": {},
     "output_type": "execute_result"
    }
   ],
   "source": [
    "M + a"
   ]
  },
  {
   "cell_type": "code",
   "execution_count": 236,
   "id": "c854241f",
   "metadata": {},
   "outputs": [
    {
     "data": {
      "text/plain": [
       "array([[0, 1, 2],\n",
       "       [1, 2, 3],\n",
       "       [2, 3, 4]])"
      ]
     },
     "execution_count": 236,
     "metadata": {},
     "output_type": "execute_result"
    }
   ],
   "source": [
    "a = np.arange(3)\n",
    "a\n",
    "b = np.arange(3)[:, np.newaxis]\n",
    "a + b"
   ]
  },
  {
   "cell_type": "code",
   "execution_count": 240,
   "id": "b12b2a05",
   "metadata": {},
   "outputs": [
    {
     "name": "stdout",
     "output_type": "stream",
     "text": [
      "[[1. 1. 1.]\n",
      " [1. 1. 1.]]\n",
      "[0 1 2]\n",
      "(2, 3)\n",
      "(3,)\n"
     ]
    }
   ],
   "source": [
    "M = np.ones((2, 3))\n",
    "a = np.arange(3)\n",
    "print(M)\n",
    "print(a)\n",
    "print(M.shape)\n",
    "print(a.shape)\n",
    "M + a"
   ]
  },
  {
   "cell_type": "code",
   "execution_count": 251,
   "id": "949a560e",
   "metadata": {},
   "outputs": [
    {
     "data": {
      "text/plain": [
       "(array([245.,  14.,  13.,  17.,   8.,   6.,   5.,   6.,   4.,   3.,   7.,\n",
       "          6.,   3.,   3.,   3.,   4.,   4.,   2.,   4.,   0.,   0.,   1.,\n",
       "          1.,   1.,   0.,   0.,   0.,   2.,   1.,   1.,   0.,   0.,   0.,\n",
       "          0.,   0.,   0.,   0.,   0.,   0.,   1.]),\n",
       " array([0.        , 0.04596457, 0.09192913, 0.1378937 , 0.18385827,\n",
       "        0.22982283, 0.2757874 , 0.32175197, 0.36771654, 0.4136811 ,\n",
       "        0.45964567, 0.50561024, 0.5515748 , 0.59753937, 0.64350394,\n",
       "        0.6894685 , 0.73543307, 0.78139764, 0.8273622 , 0.87332677,\n",
       "        0.91929134, 0.96525591, 1.01122047, 1.05718504, 1.10314961,\n",
       "        1.14911417, 1.19507874, 1.24104331, 1.28700787, 1.33297244,\n",
       "        1.37893701, 1.42490157, 1.47086614, 1.51683071, 1.56279528,\n",
       "        1.60875984, 1.65472441, 1.70068898, 1.74665354, 1.79261811,\n",
       "        1.83858268]),\n",
       " <BarContainer object of 40 artists>)"
      ]
     },
     "execution_count": 251,
     "metadata": {},
     "output_type": "execute_result"
    },
    {
     "data": {
      "image/png": "[encoded data removed]",
      "text/plain": [
       "<Figure size 432x288 with 1 Axes>"
      ]
     },
     "metadata": {
      "needs_background": "light"
     },
     "output_type": "display_data"
    }
   ],
   "source": [
    "rainfall = pd.read_csv('https://raw.githubusercontent.com/wikibook/python-ds-handbook/master/notebooks/data/Seattle2014.csv')\n",
    "rainfall = rainfall['PRCP'].values\n",
    "inches = rainfall / 254.0\n",
    "inches.shape\n",
    "plt.hist(inches, 40)"
   ]
  },
  {
   "cell_type": "code",
   "execution_count": 252,
   "id": "187be90b",
   "metadata": {},
   "outputs": [
    {
     "data": {
      "text/plain": [
       "29"
      ]
     },
     "execution_count": 252,
     "metadata": {},
     "output_type": "execute_result"
    }
   ],
   "source": [
    "np.sum((inches > 0.5) & (inches < 1))"
   ]
  },
  {
   "cell_type": "code",
   "execution_count": 255,
   "id": "cc2eb65f",
   "metadata": {},
   "outputs": [
    {
     "data": {
      "text/plain": [
       "336"
      ]
     },
     "execution_count": 255,
     "metadata": {},
     "output_type": "execute_result"
    }
   ],
   "source": [
    "np.sum(~((inches > 0.5) & (inches < 1)))"
   ]
  },
  {
   "cell_type": "code",
   "execution_count": 257,
   "id": "647d86b5",
   "metadata": {},
   "outputs": [
    {
     "data": {
      "text/plain": [
       "150"
      ]
     },
     "execution_count": 257,
     "metadata": {},
     "output_type": "execute_result"
    }
   ],
   "source": [
    "# 비가 온 모든 날에 대한 마스크 생성\n",
    "np.sum(inches > 0)"
   ]
  },
  {
   "cell_type": "code",
   "execution_count": 260,
   "id": "df1095db",
   "metadata": {},
   "outputs": [
    {
     "data": {
      "text/plain": [
       "array([False,  True,  True, False, False,  True,  True,  True,  True,\n",
       "        True,  True,  True, False, False, False, False, False, False,\n",
       "       False, False, False,  True, False, False, False, False, False,\n",
       "        True,  True, False,  True,  True, False, False, False, False,\n",
       "       False, False,  True,  True,  True,  True,  True,  True,  True,\n",
       "        True,  True,  True,  True,  True,  True,  True,  True,  True,\n",
       "        True,  True, False, False, False,  True,  True,  True,  True,\n",
       "        True,  True, False,  True,  True,  True, False, False,  True,\n",
       "        True,  True,  True,  True, False,  True, False, False, False,\n",
       "       False, False,  True,  True,  True,  True,  True, False, False,\n",
       "       False, False,  True, False,  True, False, False,  True, False,\n",
       "       False, False, False, False, False,  True,  True,  True, False,\n",
       "        True, False,  True,  True,  True,  True, False,  True,  True,\n",
       "       False, False, False, False, False,  True,  True,  True, False,\n",
       "       False,  True,  True,  True, False, False, False, False, False,\n",
       "       False, False, False, False, False, False, False,  True, False,\n",
       "        True, False, False, False, False, False, False, False, False,\n",
       "       False, False, False, False, False, False, False, False, False,\n",
       "        True,  True, False,  True,  True,  True, False,  True,  True,\n",
       "       False, False, False, False, False, False,  True,  True, False,\n",
       "       False, False, False, False, False, False, False, False, False,\n",
       "       False, False, False, False, False, False, False, False, False,\n",
       "       False, False, False, False,  True,  True, False, False, False,\n",
       "       False, False, False, False, False, False,  True, False, False,\n",
       "       False, False, False, False, False, False,  True,  True,  True,\n",
       "       False,  True, False, False, False, False, False, False, False,\n",
       "       False, False, False, False, False, False, False,  True,  True,\n",
       "       False,  True, False, False, False, False, False, False, False,\n",
       "       False, False, False, False, False, False, False,  True,  True,\n",
       "       False, False, False,  True,  True,  True,  True,  True, False,\n",
       "       False,  True, False, False, False, False, False, False, False,\n",
       "       False, False, False,  True,  True, False,  True,  True,  True,\n",
       "       False,  True,  True, False,  True,  True,  True,  True,  True,\n",
       "        True,  True,  True,  True,  True,  True,  True, False,  True,\n",
       "        True,  True,  True,  True, False, False,  True, False, False,\n",
       "       False, False, False, False, False, False, False, False,  True,\n",
       "        True,  True,  True,  True,  True,  True,  True,  True,  True,\n",
       "       False, False, False, False,  True,  True,  True, False,  True,\n",
       "        True,  True,  True, False, False, False, False, False,  True,\n",
       "        True,  True,  True, False, False,  True,  True, False, False,\n",
       "        True,  True, False, False, False])"
      ]
     },
     "execution_count": 260,
     "metadata": {},
     "output_type": "execute_result"
    }
   ],
   "source": [
    "inches > 0"
   ]
  },
  {
   "cell_type": "code",
   "execution_count": 262,
   "id": "62403cb2",
   "metadata": {},
   "outputs": [
    {
     "data": {
      "text/plain": [
       "2"
      ]
     },
     "execution_count": 262,
     "metadata": {},
     "output_type": "execute_result"
    }
   ],
   "source": [
    "x = np.array([1, 2, 3, 4, 5])\n",
    "x < 3  # 보다 작음\n",
    "np.sum(x < 3)"
   ]
  }
 ],
 "metadata": {
  "kernelspec": {
   "display_name": "Python 3 (ipykernel)",
   "language": "python",
   "name": "python3"
  },
  "language_info": {
   "codemirror_mode": {
    "name": "ipython",
    "version": 3
   },
   "file_extension": ".py",
   "mimetype": "text/x-python",
   "name": "python",
   "nbconvert_exporter": "python",
   "pygments_lexer": "ipython3",
   "version": "3.10.4"
  }
 },
 "nbformat": 4,
 "nbformat_minor": 5
}
