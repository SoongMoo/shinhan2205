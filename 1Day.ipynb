{
 "cells": [
  {
   "cell_type": "code",
   "execution_count": 17,
   "id": "b85baf00",
   "metadata": {},
   "outputs": [
    {
     "name": "stdout",
     "output_type": "stream",
     "text": [
      "10\n",
      "3\n"
     ]
    }
   ],
   "source": [
    "print(10)\n",
    "print(3)"
   ]
  },
  {
   "cell_type": "code",
   "execution_count": 18,
   "id": "fdbeff76",
   "metadata": {},
   "outputs": [
    {
     "name": "stdout",
     "output_type": "stream",
     "text": [
      "10\n",
      "3\n"
     ]
    }
   ],
   "source": [
    "print(10); print(3)"
   ]
  },
  {
   "cell_type": "code",
   "execution_count": 20,
   "id": "b7a9230f",
   "metadata": {},
   "outputs": [
    {
     "name": "stdout",
     "output_type": "stream",
     "text": [
      "0\n",
      "1\n",
      "2\n",
      "실행 종료\n"
     ]
    }
   ],
   "source": [
    "for i in range(3): # 0~2\n",
    "    print(i)\n",
    "    \n",
    "    \n",
    "print(\"실행 종료\")"
   ]
  },
  {
   "cell_type": "code",
   "execution_count": null,
   "id": "7fb8ff1f",
   "metadata": {},
   "outputs": [],
   "source": []
  },
  {
   "cell_type": "code",
   "execution_count": 28,
   "id": "70179fe9",
   "metadata": {},
   "outputs": [
    {
     "name": "stdout",
     "output_type": "stream",
     "text": [
      "10\n",
      "10.5\n",
      "15\n",
      "5\n",
      "2.0\n",
      "50\n",
      "1\n",
      "3\n",
      "100\n",
      "1000\n",
      "10\n",
      "20\n",
      "20.5\n",
      "a\n",
      "a\n",
      "이숭무\n",
      "a\n"
     ]
    }
   ],
   "source": [
    "# 자료형\n",
    "# 숫자형 : 정수, 실수\n",
    "print(10)\n",
    "print(10.5)\n",
    "# 연산자 (+, -, *, /, % , // ,**)\n",
    "print( 10 + 5)\n",
    "print(10 - 5)\n",
    "print(10 / 5)\n",
    "print( 10 * 5)\n",
    "print( 10 % 3 ) # 나머지 연산자\n",
    "print( 10 // 3 ) # 몫\n",
    "print( 10 ** 2) # 제곱승\n",
    "print( 10 ** 3)\n",
    "\n",
    "# 리터널 : 자연어 : 정수 리터널 , 실수 리터널\n",
    "a = 10\n",
    "print(a)\n",
    "a = 20\n",
    "print(a)\n",
    "a = 20.5\n",
    "print(a)\n",
    "\n",
    "# 문자 리터널 : '' , \"\"\n",
    "a = 'a'\n",
    "print(a)\n",
    "a = \"a\"\n",
    "print(a)\n",
    "b = \"이숭무\"\n",
    "print(b)\n",
    "이숭무 = 'a'\n",
    "print(이숭무)\n",
    "print(b) # \"이숭무\"\n",
    "print(\"이숭무\")"
   ]
  },
  {
   "cell_type": "code",
   "execution_count": 31,
   "id": "e2173362",
   "metadata": {},
   "outputs": [
    {
     "name": "stdout",
     "output_type": "stream",
     "text": [
      "Life is too short, You need python\n",
      "Life is too short, You need python\n"
     ]
    }
   ],
   "source": [
    "print(\"Life is too short, You need python\")\n",
    "str1 = \"Life is too short, You need python\"\n",
    "print(str1)"
   ]
  },
  {
   "cell_type": "code",
   "execution_count": 33,
   "id": "c4343df2",
   "metadata": {},
   "outputs": [
    {
     "name": "stdout",
     "output_type": "stream",
     "text": [
      "Life is too short, \n",
      "      You need python\n"
     ]
    }
   ],
   "source": [
    "print(\"\"\"Life is too short, \n",
    "      You need python\"\"\")"
   ]
  },
  {
   "cell_type": "code",
   "execution_count": 35,
   "id": "21576047",
   "metadata": {},
   "outputs": [
    {
     "name": "stdout",
     "output_type": "stream",
     "text": [
      "Life is too short, \n",
      "      You need python\n"
     ]
    }
   ],
   "source": [
    "print('''Life is too short, \n",
    "      You need python''')\n",
    "# 문자열 리터널 : \"\" , '' ,\"\"\"\"\"\" ,''''''"
   ]
  },
  {
   "cell_type": "code",
   "execution_count": 37,
   "id": "a7e8f1d8",
   "metadata": {},
   "outputs": [
    {
     "name": "stdout",
     "output_type": "stream",
     "text": [
      "Life's too short, You need python\n"
     ]
    }
   ],
   "source": [
    "print(\"Life's too short, You need python\")"
   ]
  },
  {
   "cell_type": "code",
   "execution_count": 38,
   "id": "1023c515",
   "metadata": {},
   "outputs": [
    {
     "name": "stdout",
     "output_type": "stream",
     "text": [
      "Life is too short, \"You need python\"\n"
     ]
    }
   ],
   "source": [
    "print('Life is too short, \"You need python\"')"
   ]
  },
  {
   "cell_type": "code",
   "execution_count": 42,
   "id": "be52434e",
   "metadata": {},
   "outputs": [
    {
     "name": "stdout",
     "output_type": "stream",
     "text": [
      "==============================\n",
      "Python is fun\n",
      "Python Python Python \n",
      "==============================\n"
     ]
    }
   ],
   "source": [
    "# 숫자 리터널 ( +, - , * ,/, % , //, **)\n",
    "# 문자열 연산자 : + , *\n",
    "#print(\"이숭무\" + 3)\n",
    "head = \"Python \"\n",
    "tail = \"is fun\"\n",
    "print(\"=\" * 30)\n",
    "print(head + tail) # 연결 연산자\"\n",
    "print(head * 3) #  반복연산자\n",
    "print(\"=\" * 30)"
   ]
  },
  {
   "cell_type": "code",
   "execution_count": 51,
   "id": "0a18b35c",
   "metadata": {},
   "outputs": [
    {
     "name": "stdout",
     "output_type": "stream",
     "text": [
      "f\n",
      "t\n",
      "17\n",
      "t\n",
      "t\n",
      "f\n",
      "L i f e\n",
      "Life\n"
     ]
    }
   ],
   "source": [
    "# indexing\n",
    "a = \"Life is too short\"\n",
    "#    01234567890123456  # index\n",
    "#              1\n",
    "#    76543210987654321 - \n",
    "#           1\n",
    "print(a[2])\n",
    "print(a[16])\n",
    "print(len(a))\n",
    "print(a[len(a) - 1])\n",
    "print(a[-1]) # print(a[16])\n",
    "print(a[-15]) # print(a[2])\n",
    "\n",
    "# Life가져오기\n",
    "print(a[0],a[1],a[2],a[3])\n",
    "print(a[0]+a[1]+a[2]+a[3])"
   ]
  },
  {
   "cell_type": "code",
   "execution_count": 59,
   "id": "11ae6055",
   "metadata": {
    "scrolled": true
   },
   "outputs": [
    {
     "name": "stdout",
     "output_type": "stream",
     "text": [
      "i\n",
      "Life\n",
      "short\n",
      "short\n",
      "Life\n"
     ]
    }
   ],
   "source": [
    "# slicing\n",
    "a = \"Life is too short\"\n",
    "#    01234567890123456  # index\n",
    "#              1\n",
    "#    76543210987654321 - \n",
    "#           1\n",
    "print(a[1])\n",
    "print(a[0:0+4]) # 0번부터 4번 이전까지\n",
    "print(a[12:12+5])\n",
    "print(a[-5: ])\n",
    "print(a[:0+4])"
   ]
  },
  {
   "cell_type": "code",
   "execution_count": 61,
   "id": "6c72719d",
   "metadata": {},
   "outputs": [
    {
     "name": "stdout",
     "output_type": "stream",
     "text": [
      "20010331\n",
      "Rainy\n",
      "2001\n",
      "03\n",
      "31\n"
     ]
    }
   ],
   "source": [
    "a = \"20010331Rainy\"\n",
    "birth = a[:8]\n",
    "name = a[8:]\n",
    "print(birth)\n",
    "print(name)\n",
    "year = a[:4]\n",
    "month = a[4:4+2]\n",
    "day = a[6:6+2]\n",
    "print(year)\n",
    "print(month)\n",
    "print(day)"
   ]
  },
  {
   "cell_type": "code",
   "execution_count": 72,
   "id": "fda084b0",
   "metadata": {},
   "outputs": [
    {
     "name": "stdout",
     "output_type": "stream",
     "text": [
      "이숭무의 계좌번호 1111에는 100원이 들어 있습니다.\n",
      "이숭무의 나이는 25살이구요 키는 175.300000 입니다.\n",
      "이숭무의 나이는 25살이구요 키는 175.3 입니다.\n",
      "이숭무의 나이는         25살이구요 키는 175.3 입니다.\n",
      "이숭무의 나이는 25        살이구요 키는 175.3 입니다.\n",
      "       이숭무의 나이는         25살이구요 키는 175.3 입니다.\n",
      "이숭무       의 나이는 25살이구요 키는 175.3 입니다.\n"
     ]
    }
   ],
   "source": [
    "# 이숭무의 계좌번호 1111에는 100원이 들어 있습니다.\n",
    "name = '이숭무'\n",
    "account = '1111'\n",
    "money = 100\n",
    "# 문자열 포매팅\n",
    "# print(name + \"의 계좌번호 \" + account + \"에는 \" + money + \"원이 들어 있습니다.\")\n",
    "print(\"%s의 계좌번호 %s에는 %d원이 들어 있습니다.\"%(name, account, money ))\n",
    "\n",
    "### 이숭무의 나이는 25살이구요 키는 175.3 입니다.\n",
    "age = 25\n",
    "height = 175.3 # float\n",
    "print(\"%s의 나이는 %d살이구요 키는 %f 입니다.\" % (name, age, height))\n",
    "print(\"%s의 나이는 %d살이구요 키는 %.1f 입니다.\" % (name, age, height))\n",
    "print(\"%s의 나이는 %10d살이구요 키는 %.1f 입니다.\" % (name, age, height))\n",
    "print(\"%s의 나이는 %-10d살이구요 키는 %.1f 입니다.\" % (name, age, height))\n",
    "print(\"%10s의 나이는 %10d살이구요 키는 %.1f 입니다.\" % (name, age, height))\n",
    "print(\"%-10s의 나이는 %-0d살이구요 키는 %.1f 입니다.\" % (name, age, height))"
   ]
  },
  {
   "cell_type": "code",
   "execution_count": 92,
   "id": "141e36c5",
   "metadata": {},
   "outputs": [
    {
     "name": "stdout",
     "output_type": "stream",
     "text": [
      "이숭무의 계좌번호 1111에는 100원이 들어 있습니다.\n",
      "이숭무의 계좌번호 1111에는 100원이 들어 있습니다.\n",
      "이숭무님의 나이는 25살이고요 키는 175.3입니다.\n"
     ]
    }
   ],
   "source": [
    "# format 함수를 사용한 포매팅\n",
    "# 이숭무의 계좌번호 1111에는 100원이 들어 있습니다.\n",
    "name = '이숭무'\n",
    "account = '1111'\n",
    "money = 100\n",
    "print(\"%s의 계좌번호 %s에는 %d원이 들어 있습니다.\"%(name, account, money))\n",
    "print(\"{1}의 계좌번호 {0}에는 {2}원이 들어 있습니다.\"\n",
    "      .format(account,name, money ))\n",
    "\n",
    "age = 25\n",
    "height = 175.3\n",
    "# 이숭무님의 나이는 25살이고요 키는 175.3입니다.\n",
    "a = \"{0}님의 나이는 {a}살이고요 키는 {h}입니다.\"\\\n",
    "                .format(name, a = age, h = height )\n",
    "print(a)"
   ]
  },
  {
   "cell_type": "code",
   "execution_count": 93,
   "id": "661a0a86",
   "metadata": {},
   "outputs": [
    {
     "name": "stdout",
     "output_type": "stream",
     "text": [
      "이숭무의 계좌번호 1111에는 100원이 들어 있습니다.\n"
     ]
    }
   ],
   "source": [
    "# 이숭무의 계좌번호 1111에는 100원이 들어 있습니다.\n",
    "a = f\"{name}의 계좌번호 {account}에는 {money}원이 들어 있습니다.\"\n",
    "print(a)"
   ]
  },
  {
   "cell_type": "code",
   "execution_count": 108,
   "id": "f67db45f",
   "metadata": {},
   "outputs": [
    {
     "name": "stdout",
     "output_type": "stream",
     "text": [
      "5\n",
      "23\n",
      "need\n",
      "need\n",
      "23\n",
      "12\n",
      "-1\n",
      "23\n",
      "23\n",
      "12\n",
      "33\n",
      "33\n",
      "Life is too short, You need python\n"
     ]
    }
   ],
   "source": [
    "# 문자열을 가공하기 위한 문자열 함수\n",
    "a = 'Life is too short, You need python'\n",
    "print(a.count('o'))\n",
    "print(a.find('n'))\n",
    "print(a[a.find('n') : a.find('n') + 4])\n",
    "print(a[23 : 23 + 4])\n",
    "print(a.find('need'))\n",
    "print(a.find('s', 7))\n",
    "print(a.find('x')) # -1\n",
    "print(a.index('n'))\n",
    "print(a.index('need'))\n",
    "print(a.index('s', 7))\n",
    "#print(a.index('x')) # -1 # 실행 오류\\\n",
    "print(a.rindex('n'))\n",
    "print(a.rfind('n'))"
   ]
  },
  {
   "cell_type": "code",
   "execution_count": 134,
   "id": "0bf7c1c8",
   "metadata": {},
   "outputs": [
    {
     "name": "stdout",
     "output_type": "stream",
     "text": [
      "Life is too short, You need python\n",
      "life is too short, you need python\n",
      "LIFE IS TOO SHORT, YOU NEED PYTHON\n",
      "Life is too short, You need python\n",
      "['Life', 'is', 'too', 'short,', 'You', 'need', 'python']\n",
      "['Life', 'is', 'too', 'short,', 'You', 'need', 'python']\n",
      "abcd\n",
      "   ab cd  \n",
      "ab cd\n",
      "   ab cd\n",
      "ab cd  \n",
      "cabd\n",
      "Life is too short, You need python\n",
      "Your leg is too short, You need python\n",
      "True\n",
      "False\n",
      "True\n",
      "False\n",
      "False\n"
     ]
    }
   ],
   "source": [
    "print(a)\n",
    "print(a.lower())\n",
    "print(a.upper())\n",
    "print(a)\n",
    "l = a.split() # 공백문자가 구분문자. ㅡ\n",
    "print(l) # 리스트로 반환\n",
    "s = \"Life:is:too:short,:You:need:python\"\n",
    "l = s.split(\":\") # :이 구분문자임\n",
    "print(l)\n",
    "print(\"abcd\")\n",
    "s = \"   ab cd  \"\n",
    "print(s)\n",
    "\n",
    "print(s.strip())\n",
    "print(s.rstrip())\n",
    "print(s.lstrip())\n",
    "s = \"abcabdab\"\n",
    "print(s.strip(\"ab\"))\n",
    "a = \"Life is too short, You need python\"\n",
    "print(a) # Your leg is too short, You need python\n",
    "print(a.replace(\"Life\",\"Your leg\"))\n",
    "digit = \"01071461970\"\n",
    "print(digit.isdigit()) # True\n",
    "digit = \"010-7146-1970\"\n",
    "print(digit.isdigit()) # False\n",
    "alpha = \"abcd\"\n",
    "print(alpha.isalpha()) # True\n",
    "alpha = \"ab cd\"\n",
    "print(alpha.isalpha()) # False\n",
    "print(a.islower())\n",
    "print(a.isupper())"
   ]
  },
  {
   "cell_type": "code",
   "execution_count": 143,
   "id": "48f487c4",
   "metadata": {},
   "outputs": [
    {
     "name": "stdout",
     "output_type": "stream",
     "text": [
      "['이숭무', '이상범', '이장범']\n",
      "<class 'int'>\n",
      "<class 'str'>\n",
      "<class 'list'>\n",
      "['이숭무', 100, 10.5]\n"
     ]
    }
   ],
   "source": [
    "# 숫자 리터널 : 정수 , 실수 : 10\n",
    "# 문자열 리터널 : \"a\" ,'a', '''a''', \"\"\"a\"\"\" ,\"10\", a:변수 : 영어, 한국어, 중국어\n",
    "# 리스트 자료형 : [] \n",
    "l = [\"이숭무\",\"이상범\",\"이장범\"] # 문자열이 있는 리스트\n",
    "print(l)\n",
    "# 각각의 자료형 확인\n",
    "i = 10\n",
    "str1 = \"이숭무\"\n",
    "print(type(i))\n",
    "print(type(str1))\n",
    "print(type(l))\n",
    "l = [\"이숭무\",100,10.5] # 혼합형 리스트\n",
    "print(l)"
   ]
  },
  {
   "cell_type": "code",
   "execution_count": 147,
   "id": "e1d0ee78",
   "metadata": {},
   "outputs": [
    {
     "name": "stdout",
     "output_type": "stream",
     "text": [
      "['이숭무', 35, 175.5, [1, 2, 3]]\n",
      "[[1, 2, 3], [4, 5, 6]]\n",
      "[]\n",
      "['Life', 'is', 'too', 'short']\n"
     ]
    }
   ],
   "source": [
    "a  = [\"이숭무\" , 35 , 175.5 , [1,2,3] ] # 리스트를 포함한 혼합형 리스트\n",
    "print(a)\n",
    "a = [[1,2,3], [4,5,6]] # 리스트를 포함한 리스트\n",
    "print(a)\n",
    "a = [] # 빈리스트\n",
    "print(a)\n",
    "a = \"Life:is:too:short\"\n",
    "c = a.split(\":\")\n",
    "print(c)"
   ]
  },
  {
   "cell_type": "code",
   "execution_count": 158,
   "id": "3e6894b7",
   "metadata": {},
   "outputs": [
    {
     "name": "stdout",
     "output_type": "stream",
     "text": [
      "Life is too short\n",
      "t\n",
      "too\n",
      "<class 'str'>\n",
      "o\n",
      "istoo\n",
      "too\n"
     ]
    }
   ],
   "source": [
    "a = \"Life is too short\"\n",
    "#    01234567890123456\n",
    "#              1\n",
    "print(a)\n",
    "print(a[8])\n",
    "l = ['Life', 'is', 'too', 'short']\n",
    "#      0       1     2       3\n",
    "#      4       3     2       1    -\n",
    "print(l[2])\n",
    "s = l[2]\n",
    "print(type(s)) # 문자열 : too \n",
    "#                         012\n",
    "print(l[2][1])\n",
    "print(l[1] + l[2]) #  'is' + 'too'\n",
    "print(l[-2])"
   ]
  },
  {
   "cell_type": "code",
   "execution_count": 159,
   "id": "5f72184a",
   "metadata": {},
   "outputs": [
    {
     "name": "stdout",
     "output_type": "stream",
     "text": [
      "b\n"
     ]
    }
   ],
   "source": [
    "a = [1, 2, 3, ['a', 'b', 'c']]\n",
    "#    0  1  2        3\n",
    "#               0   1     2\n",
    "print(a[3][1])"
   ]
  },
  {
   "cell_type": "code",
   "execution_count": 166,
   "id": "37d145cc",
   "metadata": {},
   "outputs": [
    {
     "name": "stdout",
     "output_type": "stream",
     "text": [
      "too\n",
      "['is', 'too']\n",
      "['is']\n",
      "is\n",
      "['Your leg', 'is', 'too', 'short']\n"
     ]
    }
   ],
   "source": [
    "a = \"Life is too short\"\n",
    "#    01234567890123456\n",
    "print(a[8:8+3]) # slicing\n",
    "l = [\"Life\",\"is\", \"too\", \"short\"]\n",
    "#      0      1     2       3\n",
    "#      4      3     2       1 -\n",
    "print(l[1:1+2])\n",
    "print(l[-3: -3+1])\n",
    "print(l[1])\n",
    "l[0] = \"Your leg\"\n",
    "print(l)"
   ]
  },
  {
   "cell_type": "code",
   "execution_count": 170,
   "id": "3a2b1322",
   "metadata": {},
   "outputs": [
    {
     "name": "stdout",
     "output_type": "stream",
     "text": [
      "['Life', 'is', 'short']\n",
      "['short']\n"
     ]
    }
   ],
   "source": [
    "# 리스트 함수\n",
    "l = [\"Life\",\"is\", \"too\", \"short\"]\n",
    "del l[2] # ['Life', 'is', 'short']\n",
    "print(l) \n",
    "del l[0:0+2]\n",
    "print(l)"
   ]
  },
  {
   "cell_type": "code",
   "execution_count": 174,
   "id": "9b96cf5a",
   "metadata": {},
   "outputs": [
    {
     "name": "stdout",
     "output_type": "stream",
     "text": [
      "['Life']\n",
      "['Life', 'is']\n",
      "['Life', 'is', 'too']\n",
      "['Life', 'is', 'too', 'short']\n"
     ]
    }
   ],
   "source": [
    "l = [\"Life\",\"is\", \"too\", \"short\"]\n",
    "del l[1:]\n",
    "print(l)\n",
    "l.append('is')\n",
    "print(l)\n",
    "l.append(\"too\")\n",
    "print(l)\n",
    "l.append(\"short\")\n",
    "print(l)"
   ]
  },
  {
   "cell_type": "code",
   "execution_count": 189,
   "id": "b26c8d9e",
   "metadata": {},
   "outputs": [
    {
     "name": "stdout",
     "output_type": "stream",
     "text": [
      "[1, 2, 3, 4]\n",
      "[3, 2, 4, 1]\n",
      "0\n",
      "[3, 2, 4, 1]\n",
      "[3, 2, 6, 4, 1]\n",
      "[3, 2, 6, 1]\n",
      "[3, 2, 6, 1, 6]\n",
      "[3, 2, 1, 6]\n",
      "[3, 2, 1, 6, 6]\n",
      "2\n"
     ]
    }
   ],
   "source": [
    "a = [1, 4, 2, 3]\n",
    "# 데이터를 정렬\n",
    "a.sort() # 실제 데이터가 변경이 됨\n",
    "print(a)\n",
    "a = [1, 4, 2, 3]\n",
    "a.reverse()\n",
    "print(a)\n",
    "print(a.index(3))\n",
    "# print(a.find(3))\n",
    "print(a)\n",
    "a.insert(2, 6)\n",
    "print(a)\n",
    "a.remove(4)\n",
    "print(a)\n",
    "a.append(6)\n",
    "print(a)\n",
    "a.remove(6)\n",
    "print(a)\n",
    "a.append(6)\n",
    "print(a)\n",
    "print(a.count(6))"
   ]
  },
  {
   "cell_type": "code",
   "execution_count": 198,
   "id": "5c7eced0",
   "metadata": {},
   "outputs": [
    {
     "name": "stdout",
     "output_type": "stream",
     "text": [
      "[1, 4, 2, 5, 3]\n",
      "[1, 4, 2, 5]\n",
      "[1, 4, 2]\n",
      "5\n",
      "4\n"
     ]
    }
   ],
   "source": [
    "a = [1, 4, 2, 5, 4, 3]\n",
    "del a[4]\n",
    "print(a)\n",
    "a.remove(3)\n",
    "print(a) # [1, 4, 2, 5]\n",
    "b = a.pop()\n",
    "print(a) # [1, 4, 2]\n",
    "print(b)\n",
    "b = a.pop(1) # index\n",
    "print(b)"
   ]
  },
  {
   "cell_type": "code",
   "execution_count": 224,
   "id": "b3619658",
   "metadata": {},
   "outputs": [
    {
     "name": "stdout",
     "output_type": "stream",
     "text": [
      "6\n",
      "[6, 6, 5, 4, 4, 2, 1]\n",
      "Life is too short\n",
      "2\n"
     ]
    }
   ],
   "source": [
    "a = [1, 4, 2, 5, 4, 3]\n",
    "# 크기 \n",
    "print(len(a))\n",
    "# 삭제\n",
    "del a[1]\n",
    "a.remove(4)\n",
    "a.pop()\n",
    "a.pop(2)\n",
    "# 추가 및 삽입 그리고 확장\n",
    "a.append(4)\n",
    "a.insert(3, 6)\n",
    "a.extend([4,5,6])\n",
    "# 정렬\n",
    "a.sort()\n",
    "a.reverse()\n",
    "a.sort(reverse=True)\n",
    "print(a)\n",
    "c = ['Life', 'is', 'too', 'short']\n",
    "d = \" \".join(c) # 리스트를 문자열로 변환\n",
    "print(d)\n",
    "# 요소 번호 찾기\n",
    "print(a.index(5))"
   ]
  },
  {
   "cell_type": "code",
   "execution_count": 226,
   "id": "717301b0",
   "metadata": {},
   "outputs": [
    {
     "name": "stdout",
     "output_type": "stream",
     "text": [
      "[1, 2, 3]\n",
      "1\n",
      "[1, 10, 3, 4]\n",
      "4\n"
     ]
    }
   ],
   "source": [
    "# 숫자 자료형 : 10, 10.5\n",
    "# 문자 자료형 : '', \"\", \"\"\"\"\"\", ''''''\n",
    "# 리스트 자료형 : []\n",
    "# 튜플 자료형 : ()\n",
    "l = [1,2,3,4]\n",
    "t = (1,2,3,4)\n",
    "t1 = (\"이숭무\", 12, [1,2,3], (4,5,6))\n",
    "#         0      1     2        3\n",
    "print(t1[2])\n",
    "print(t1.index(12))\n",
    "l[1] = 10\n",
    "print(l)\n",
    "# t[1] = 10 # 튜플은 요소를 변경하지 못함\n",
    "print(len(t))\n",
    "# indexing , slicing"
   ]
  },
  {
   "cell_type": "code",
   "execution_count": 229,
   "id": "7d1a6fce",
   "metadata": {},
   "outputs": [
    {
     "name": "stdout",
     "output_type": "stream",
     "text": [
      "(1,)\n",
      "20\n"
     ]
    }
   ],
   "source": [
    "l = []\n",
    "t = ()\n",
    "l1 = [1]\n",
    "t1 =(1,) # \n",
    "l2 =[1,2]\n",
    "t2 = (1,2)\n",
    "print(t1)\n",
    "print( ( 4 ) *5 )"
   ]
  },
  {
   "cell_type": "code",
   "execution_count": 236,
   "id": "3b7040d7",
   "metadata": {},
   "outputs": [
    {
     "name": "stdout",
     "output_type": "stream",
     "text": [
      "이숭무\n",
      "35\n",
      "{'name': '이장범', 'age': 35, 'height': 174.6}\n",
      "[1, 2, 3, 10]\n",
      "{'name': '이장범', 'age': 35, 'height': 174.6, 'add': '성남'}\n",
      "{1: '숭'}\n"
     ]
    }
   ],
   "source": [
    "### 딕셔너리 : 키와 값이 하나의 쌍으로 되어 있는 것을 딕셔너리라고 한다.\n",
    "###  {Key1:Value1, Key2:Value2, Key3:Value3, ...}\n",
    "### html : json자료형과 같다.\n",
    "name = '이숭무'\n",
    "age = 35\n",
    "height = 170.4\n",
    "dic = {'name' : '이숭무','age':35, 'height':174.6 }\n",
    "# 딕셔너리는 index가 없다\n",
    "print(dic['name'])\n",
    "print(dic['age'])\n",
    "dic['name'] = '이장범'\n",
    "print(dic)\n",
    "l = [1,2,3,4]\n",
    "#    0 1 2 3\n",
    "l[3] = 10\n",
    "print(l)\n",
    "#l[4] = 20\n",
    "dic['add'] = '성남' # 키가 없으면 추가가 된다.\n",
    "print(dic)\n",
    "d = {1: '이', 1 : '숭'} # 키의 중복을 허용하지 않는다.\n",
    "print(d)"
   ]
  },
  {
   "cell_type": "code",
   "execution_count": 241,
   "id": "b090810c",
   "metadata": {},
   "outputs": [
    {
     "name": "stdout",
     "output_type": "stream",
     "text": [
      "{'name': '이장범', 'age': 35, 'height': 174.6, 'add': '성남'}\n",
      "{'name': '이장범', 'age': 35, 'height': 174.6}\n"
     ]
    }
   ],
   "source": [
    "dic = {'name': '이장범', 'age': 35, 'height': 174.6, 'add': '성남'}\n",
    "print(dic)\n",
    "del dic['add']\n",
    "print(dic)"
   ]
  },
  {
   "cell_type": "code",
   "execution_count": 251,
   "id": "bb7dce6d",
   "metadata": {},
   "outputs": [
    {
     "name": "stdout",
     "output_type": "stream",
     "text": [
      "{'name': 'pey', 'phone': '0119993323', 'birth': '19991118'}\n",
      "19991118\n",
      "1999\n",
      "11\n",
      "18\n",
      "dict_keys(['name', 'phone', 'birth'])\n",
      "dict_values(['pey', '0119993323', '19991118'])\n",
      "dict_items([('name', 'pey'), ('phone', '0119993323'), ('birth', '19991118')])\n",
      "pey\n",
      "pey\n",
      "None\n"
     ]
    }
   ],
   "source": [
    "dic = {'name':'pey', 'phone':'0119993323', 'birth': '19991118'}\n",
    "# pey라는 사람의 년도, 월, 일을 따로 출력\n",
    "print(dic)\n",
    "print(dic['birth'])\n",
    "print(dic['birth'][:4])\n",
    "print(dic['birth'][4:6])\n",
    "print(dic['birth'][6:])\n",
    "print(dic.keys())\n",
    "print(dic.values())\n",
    "print(dic.items())\n",
    "print(dic['name'])\n",
    "print(dic.get('name'))\n",
    "# print(dic['money'])\n",
    "print(dic.get('money'))"
   ]
  },
  {
   "cell_type": "code",
   "execution_count": 255,
   "id": "54ba4208",
   "metadata": {},
   "outputs": [
    {
     "name": "stdout",
     "output_type": "stream",
     "text": [
      "1000\n",
      "100\n"
     ]
    }
   ],
   "source": [
    "dic1  = {'classic' : 500 ,  \"pop\" : 600 }\n",
    "dic2  = {'classic' : 500 ,  \"pop\" : 600 ,\"money\":100 }\n",
    "print(dic1['classic'] + dic2['classic'])\n",
    "#print(dic1['money'] + dic2['money'])\n",
    "print(dic1.get('money',0) + dic2.get('money'))"
   ]
  },
  {
   "cell_type": "code",
   "execution_count": 257,
   "id": "b5192cc5",
   "metadata": {},
   "outputs": [
    {
     "name": "stdout",
     "output_type": "stream",
     "text": [
      "<class 'bool'>\n",
      "<class 'bool'>\n",
      "<class 'str'>\n",
      "<class 'dict'>\n"
     ]
    }
   ],
   "source": [
    "# 부울 타입 / True | False\n",
    "a = True # 참 \n",
    "b = False # 거짓\n",
    "i = 10\n",
    "s1 = \"10\"\n",
    "s = \"True\"\n",
    "dic = {'name' : '이숭무','age':35, 'height':174.6 }\n",
    "print(type(a))\n",
    "print(type(b))\n",
    "print(type(s))\n",
    "print(type(dic))"
   ]
  },
  {
   "cell_type": "code",
   "execution_count": 262,
   "id": "ff73d1ae",
   "metadata": {},
   "outputs": [
    {
     "name": "stdout",
     "output_type": "stream",
     "text": [
      "True\n",
      "False\n",
      "[1, 2, 3, 4]\n"
     ]
    }
   ],
   "source": [
    "x = 10 ; y =20\n",
    "a = x < y\n",
    "print(a)\n",
    "# 비교 연산자의 결과 값은 부울 타입\n",
    "a = x > y\n",
    "print(a)\n",
    "\n",
    "z = 30\n",
    "# 부울과 부울 끼리의 연산 : 논리 연산자\n",
    "a =  [1,2,3,4] or z < y\n",
    "print(a)\n",
    "a =  x >y and z < y\n"
   ]
  },
  {
   "cell_type": "code",
   "execution_count": 263,
   "id": "e5d08840",
   "metadata": {},
   "outputs": [
    {
     "name": "stdout",
     "output_type": "stream",
     "text": [
      "True\n",
      "False\n",
      "True\n",
      "False\n",
      "True\n",
      "False\n",
      "False\n",
      "True\n",
      "True\n",
      "False\n",
      "False\n"
     ]
    }
   ],
   "source": [
    "print(bool(\"andc\")) ### True\n",
    "print(bool(\"\"))       ###### False \n",
    "print(bool([1,2,3,4]))### True\n",
    "print(bool([]))       ###### False\n",
    "print(bool((1,2,3,4)))### True\n",
    "print(bool(()))       ###### False\n",
    "\n",
    "print(bool(0))        ###### False\n",
    "print(bool(-1))       ### True\n",
    "print(bool(1))        ### True\n",
    "print(bool(None))     ###### False\n",
    "print(bool({}))        ###### False"
   ]
  },
  {
   "cell_type": "code",
   "execution_count": 264,
   "id": "611bd836",
   "metadata": {},
   "outputs": [
    {
     "name": "stdout",
     "output_type": "stream",
     "text": [
      "False\n"
     ]
    }
   ],
   "source": [
    "### 2200년은 윤년일까요(True)? 평년일까요(False)? \n",
    "### 4년마다 윤년이지만 100년마다는 윤년이 아니다 그렇지만 400년마다는 윤년이다.\n",
    "a = 2200 % 4 == 0 and 2200 % 100 != 0 or 2200 % 400 == 0\n",
    "print(a)\n",
    "\n",
    "if 2200 % 4 == 0 and 2200 % 100 != 0 or 2200 % 400 == 0:\n",
    "    print(\"윤년\")\n",
    "else:\n",
    "    print(\"평년\")"
   ]
  },
  {
   "cell_type": "code",
   "execution_count": 275,
   "id": "07e9a5e4",
   "metadata": {},
   "outputs": [
    {
     "name": "stdout",
     "output_type": "stream",
     "text": [
      "0 0 0\n",
      "python life\n",
      "python life\n",
      "python life\n",
      "python life\n",
      "[1, 2, 3, 4] life\n",
      "[1, 2, 3, 4] life [3, 4, 5]\n"
     ]
    }
   ],
   "source": [
    "### 파이썬 변수 선언법\n",
    "a = b = c = 0\n",
    "print(a, b, c)\n",
    "a, b = 'python','life'\n",
    "print(a, b)\n",
    "a, b = ('python','life')\n",
    "print(a, b)\n",
    "(a, b) = 'python','life'\n",
    "print(a, b)\n",
    "(a, b) = ('python','life')\n",
    "print(a, b)\n",
    "(a, b) = ([1,2,3,4],'life')\n",
    "print(a, b)\n",
    "(a, b, c) = [[1,2,3,4],'life', [3,4,5]]\n",
    "print(a, b, c)"
   ]
  },
  {
   "cell_type": "code",
   "execution_count": 274,
   "id": "0192d5e7",
   "metadata": {},
   "outputs": [
    {
     "name": "stdout",
     "output_type": "stream",
     "text": [
      "4 3\n"
     ]
    }
   ],
   "source": [
    "a = 3\n",
    "b = 4\n",
    "\n",
    "a , b = b , a\n",
    "print(a, b)"
   ]
  },
  {
   "cell_type": "markdown",
   "id": "bc791509",
   "metadata": {},
   "source": [
    "파이썬 자료형에는 <br />\n",
    "숫자, 문자열, 리스트, 튜플, 딕셔너리, 부울, 집합"
   ]
  },
  {
   "cell_type": "code",
   "execution_count": 276,
   "id": "a4203337",
   "metadata": {},
   "outputs": [
    {
     "name": "stdout",
     "output_type": "stream",
     "text": [
      "버스를 타고 가세요\n",
      "명령문 끝\n"
     ]
    }
   ],
   "source": [
    "# 제어문\n",
    "### bool타입을 이용해서 원하는 결과를 얻어 오는 것을 말한다.\n",
    "## 조건문 : 여러개의 명령문 중 하나를 선택하는 것\n",
    "## 조건식을 사용한다.\n",
    "## 조건식 뒤에는 \":\"를 꼭 적어준다.\n",
    "## 조건식에 맞는 명령문이 실행되기 위해서는 들여쓰기가 되어야한다.\n",
    "### 들여쓰기할 때는 주로 탭을 많이 사용한다.\n",
    "# 단일 조건문\n",
    "'''\n",
    "if 조건식 : # 부울 타입\n",
    "    명령어1\n",
    "    명령어2\n",
    "    ...\n",
    "명령어 \n",
    "'''\n",
    "# 2900원 이상 돈이 있으면 버스를 타고 가세요.\n",
    "money = 3000\n",
    "if money >= 2900:\n",
    "    print(\"버스를 타고 가세요\")\n",
    "print(\"명령문 끝\")"
   ]
  },
  {
   "cell_type": "code",
   "execution_count": 277,
   "id": "0bae2e46",
   "metadata": {},
   "outputs": [
    {
     "name": "stdout",
     "output_type": "stream",
     "text": [
      "명령문 끝\n"
     ]
    }
   ],
   "source": [
    "money = 2800\n",
    "if money >= 2900:\n",
    "    print(\"버스를 타고 가세요\")\n",
    "print(\"명령문 끝\")"
   ]
  },
  {
   "cell_type": "code",
   "execution_count": null,
   "id": "d383ea8d",
   "metadata": {},
   "outputs": [],
   "source": [
    "# if ~ else\n",
    "money = 2800\n",
    "if money >= 2900: # True\n",
    "    print(\"버스를 타고 가세요\")\n",
    "else:  # False\n",
    "    print(\"걸어가시오.\")\n",
    "print(\"명령문 끝\")"
   ]
  },
  {
   "cell_type": "code",
   "execution_count": null,
   "id": "8bed299f",
   "metadata": {},
   "outputs": [],
   "source": []
  }
 ],
 "metadata": {
  "kernelspec": {
   "display_name": "Python 3 (ipykernel)",
   "language": "python",
   "name": "python3"
  },
  "language_info": {
   "codemirror_mode": {
    "name": "ipython",
    "version": 3
   },
   "file_extension": ".py",
   "mimetype": "text/x-python",
   "name": "python",
   "nbconvert_exporter": "python",
   "pygments_lexer": "ipython3",
   "version": "3.10.4"
  }
 },
 "nbformat": 4,
 "nbformat_minor": 5
}
