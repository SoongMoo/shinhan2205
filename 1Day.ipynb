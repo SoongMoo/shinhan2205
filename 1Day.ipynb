{
 "cells": [
  {
   "cell_type": "code",
   "execution_count": 17,
   "id": "f429b5ca",
   "metadata": {},
   "outputs": [
    {
     "name": "stdout",
     "output_type": "stream",
     "text": [
      "10\n",
      "3\n"
     ]
    }
   ],
   "source": [
    "print(10)\n",
    "print(3)"
   ]
  },
  {
   "cell_type": "code",
   "execution_count": 18,
   "id": "6450a00f",
   "metadata": {},
   "outputs": [
    {
     "name": "stdout",
     "output_type": "stream",
     "text": [
      "10\n",
      "3\n"
     ]
    }
   ],
   "source": [
    "print(10); print(3)"
   ]
  },
  {
   "cell_type": "code",
   "execution_count": 20,
   "id": "f1bd632c",
   "metadata": {},
   "outputs": [
    {
     "name": "stdout",
     "output_type": "stream",
     "text": [
      "0\n",
      "1\n",
      "2\n",
      "실행 종료\n"
     ]
    }
   ],
   "source": [
    "for i in range(3): # 0~2\n",
    "    print(i)\n",
    "    \n",
    "    \n",
    "print(\"실행 종료\")"
   ]
  },
  {
   "cell_type": "code",
   "execution_count": null,
   "id": "c93337e4",
   "metadata": {},
   "outputs": [],
   "source": []
  },
  {
   "cell_type": "code",
   "execution_count": 28,
   "id": "84058ac7",
   "metadata": {},
   "outputs": [
    {
     "name": "stdout",
     "output_type": "stream",
     "text": [
      "10\n",
      "10.5\n",
      "15\n",
      "5\n",
      "2.0\n",
      "50\n",
      "1\n",
      "3\n",
      "100\n",
      "1000\n",
      "10\n",
      "20\n",
      "20.5\n",
      "a\n",
      "a\n",
      "이숭무\n",
      "a\n"
     ]
    }
   ],
   "source": [
    "# 자료형\n",
    "# 숫자형 : 정수, 실수\n",
    "print(10)\n",
    "print(10.5)\n",
    "# 연산자 (+, -, *, /, % , // ,**)\n",
    "print( 10 + 5)\n",
    "print(10 - 5)\n",
    "print(10 / 5)\n",
    "print( 10 * 5)\n",
    "print( 10 % 3 ) # 나머지 연산자\n",
    "print( 10 // 3 ) # 몫\n",
    "print( 10 ** 2) # 제곱승\n",
    "print( 10 ** 3)\n",
    "\n",
    "# 리터널 : 자연어 : 정수 리터널 , 실수 리터널\n",
    "a = 10\n",
    "print(a)\n",
    "a = 20\n",
    "print(a)\n",
    "a = 20.5\n",
    "print(a)\n",
    "\n",
    "# 문자 리터널 : '' , \"\"\n",
    "a = 'a'\n",
    "print(a)\n",
    "a = \"a\"\n",
    "print(a)\n",
    "b = \"이숭무\"\n",
    "print(b)\n",
    "이숭무 = 'a'\n",
    "print(이숭무)\n",
    "print(b) # \"이숭무\"\n",
    "print(\"이숭무\")"
   ]
  },
  {
   "cell_type": "code",
   "execution_count": 31,
   "id": "21922d48",
   "metadata": {},
   "outputs": [
    {
     "name": "stdout",
     "output_type": "stream",
     "text": [
      "Life is too short, You need python\n",
      "Life is too short, You need python\n"
     ]
    }
   ],
   "source": [
    "print(\"Life is too short, You need python\")\n",
    "str1 = \"Life is too short, You need python\"\n",
    "print(str1)"
   ]
  },
  {
   "cell_type": "code",
   "execution_count": 33,
   "id": "7b279c7b",
   "metadata": {},
   "outputs": [
    {
     "name": "stdout",
     "output_type": "stream",
     "text": [
      "Life is too short, \n",
      "      You need python\n"
     ]
    }
   ],
   "source": [
    "print(\"\"\"Life is too short, \n",
    "      You need python\"\"\")"
   ]
  },
  {
   "cell_type": "code",
   "execution_count": 35,
   "id": "34fb292a",
   "metadata": {},
   "outputs": [
    {
     "name": "stdout",
     "output_type": "stream",
     "text": [
      "Life is too short, \n",
      "      You need python\n"
     ]
    }
   ],
   "source": [
    "print('''Life is too short, \n",
    "      You need python''')\n",
    "# 문자열 리터널 : \"\" , '' ,\"\"\"\"\"\" ,''''''"
   ]
  },
  {
   "cell_type": "code",
   "execution_count": 37,
   "id": "7998941e",
   "metadata": {},
   "outputs": [
    {
     "name": "stdout",
     "output_type": "stream",
     "text": [
      "Life's too short, You need python\n"
     ]
    }
   ],
   "source": [
    "print(\"Life's too short, You need python\")"
   ]
  },
  {
   "cell_type": "code",
   "execution_count": 38,
   "id": "769c4ee2",
   "metadata": {},
   "outputs": [
    {
     "name": "stdout",
     "output_type": "stream",
     "text": [
      "Life is too short, \"You need python\"\n"
     ]
    }
   ],
   "source": [
    "print('Life is too short, \"You need python\"')"
   ]
  },
  {
   "cell_type": "code",
   "execution_count": 42,
   "id": "f2658e13",
   "metadata": {},
   "outputs": [
    {
     "name": "stdout",
     "output_type": "stream",
     "text": [
      "==============================\n",
      "Python is fun\n",
      "Python Python Python \n",
      "==============================\n"
     ]
    }
   ],
   "source": [
    "# 숫자 리터널 ( +, - , * ,/, % , //, **)\n",
    "# 문자열 연산자 : + , *\n",
    "#print(\"이숭무\" + 3)\n",
    "head = \"Python \"\n",
    "tail = \"is fun\"\n",
    "print(\"=\" * 30)\n",
    "print(head + tail) # 연결 연산자\"\n",
    "print(head * 3) #  반복연산자\n",
    "print(\"=\" * 30)"
   ]
  },
  {
   "cell_type": "code",
   "execution_count": 51,
   "id": "effd8e0f",
   "metadata": {},
   "outputs": [
    {
     "name": "stdout",
     "output_type": "stream",
     "text": [
      "f\n",
      "t\n",
      "17\n",
      "t\n",
      "t\n",
      "f\n",
      "L i f e\n",
      "Life\n"
     ]
    }
   ],
   "source": [
    "# indexing\n",
    "a = \"Life is too short\"\n",
    "#    01234567890123456  # index\n",
    "#              1\n",
    "#    76543210987654321 - \n",
    "#           1\n",
    "print(a[2])\n",
    "print(a[16])\n",
    "print(len(a))\n",
    "print(a[len(a) - 1])\n",
    "print(a[-1]) # print(a[16])\n",
    "print(a[-15]) # print(a[2])\n",
    "\n",
    "# Life가져오기\n",
    "print(a[0],a[1],a[2],a[3])\n",
    "print(a[0]+a[1]+a[2]+a[3])"
   ]
  },
  {
   "cell_type": "code",
   "execution_count": 59,
   "id": "6f0b535f",
   "metadata": {
    "scrolled": true
   },
   "outputs": [
    {
     "name": "stdout",
     "output_type": "stream",
     "text": [
      "i\n",
      "Life\n",
      "short\n",
      "short\n",
      "Life\n"
     ]
    }
   ],
   "source": [
    "# slicing\n",
    "a = \"Life is too short\"\n",
    "#    01234567890123456  # index\n",
    "#              1\n",
    "#    76543210987654321 - \n",
    "#           1\n",
    "print(a[1])\n",
    "print(a[0:0+4]) # 0번부터 4번 이전까지\n",
    "print(a[12:12+5])\n",
    "print(a[-5: ])\n",
    "print(a[:0+4])"
   ]
  },
  {
   "cell_type": "code",
   "execution_count": 61,
   "id": "6525c1b3",
   "metadata": {},
   "outputs": [
    {
     "name": "stdout",
     "output_type": "stream",
     "text": [
      "20010331\n",
      "Rainy\n",
      "2001\n",
      "03\n",
      "31\n"
     ]
    }
   ],
   "source": [
    "a = \"20010331Rainy\"\n",
    "birth = a[:8]\n",
    "name = a[8:]\n",
    "print(birth)\n",
    "print(name)\n",
    "year = a[:4]\n",
    "month = a[4:4+2]\n",
    "day = a[6:6+2]\n",
    "print(year)\n",
    "print(month)\n",
    "print(day)"
   ]
  },
  {
   "cell_type": "code",
   "execution_count": 72,
   "id": "af696095",
   "metadata": {},
   "outputs": [
    {
     "name": "stdout",
     "output_type": "stream",
     "text": [
      "이숭무의 계좌번호 1111에는 100원이 들어 있습니다.\n",
      "이숭무의 나이는 25살이구요 키는 175.300000 입니다.\n",
      "이숭무의 나이는 25살이구요 키는 175.3 입니다.\n",
      "이숭무의 나이는         25살이구요 키는 175.3 입니다.\n",
      "이숭무의 나이는 25        살이구요 키는 175.3 입니다.\n",
      "       이숭무의 나이는         25살이구요 키는 175.3 입니다.\n",
      "이숭무       의 나이는 25살이구요 키는 175.3 입니다.\n"
     ]
    }
   ],
   "source": [
    "# 이숭무의 계좌번호 1111에는 100원이 들어 있습니다.\n",
    "name = '이숭무'\n",
    "account = '1111'\n",
    "money = 100\n",
    "# 문자열 포매팅\n",
    "# print(name + \"의 계좌번호 \" + account + \"에는 \" + money + \"원이 들어 있습니다.\")\n",
    "print(\"%s의 계좌번호 %s에는 %d원이 들어 있습니다.\"%(name, account, money ))\n",
    "\n",
    "### 이숭무의 나이는 25살이구요 키는 175.3 입니다.\n",
    "age = 25\n",
    "height = 175.3 # float\n",
    "print(\"%s의 나이는 %d살이구요 키는 %f 입니다.\" % (name, age, height))\n",
    "print(\"%s의 나이는 %d살이구요 키는 %.1f 입니다.\" % (name, age, height))\n",
    "print(\"%s의 나이는 %10d살이구요 키는 %.1f 입니다.\" % (name, age, height))\n",
    "print(\"%s의 나이는 %-10d살이구요 키는 %.1f 입니다.\" % (name, age, height))\n",
    "print(\"%10s의 나이는 %10d살이구요 키는 %.1f 입니다.\" % (name, age, height))\n",
    "print(\"%-10s의 나이는 %-0d살이구요 키는 %.1f 입니다.\" % (name, age, height))"
   ]
  },
  {
   "cell_type": "code",
   "execution_count": 92,
   "id": "0970116c",
   "metadata": {},
   "outputs": [
    {
     "name": "stdout",
     "output_type": "stream",
     "text": [
      "이숭무의 계좌번호 1111에는 100원이 들어 있습니다.\n",
      "이숭무의 계좌번호 1111에는 100원이 들어 있습니다.\n",
      "이숭무님의 나이는 25살이고요 키는 175.3입니다.\n"
     ]
    }
   ],
   "source": [
    "# format 함수를 사용한 포매팅\n",
    "# 이숭무의 계좌번호 1111에는 100원이 들어 있습니다.\n",
    "name = '이숭무'\n",
    "account = '1111'\n",
    "money = 100\n",
    "print(\"%s의 계좌번호 %s에는 %d원이 들어 있습니다.\"%(name, account, money))\n",
    "print(\"{1}의 계좌번호 {0}에는 {2}원이 들어 있습니다.\"\n",
    "      .format(account,name, money ))\n",
    "\n",
    "age = 25\n",
    "height = 175.3\n",
    "# 이숭무님의 나이는 25살이고요 키는 175.3입니다.\n",
    "a = \"{0}님의 나이는 {a}살이고요 키는 {h}입니다.\"\\\n",
    "                .format(name, a = age, h = height )\n",
    "print(a)"
   ]
  },
  {
   "cell_type": "code",
   "execution_count": 93,
   "id": "57d48bdd",
   "metadata": {},
   "outputs": [
    {
     "name": "stdout",
     "output_type": "stream",
     "text": [
      "이숭무의 계좌번호 1111에는 100원이 들어 있습니다.\n"
     ]
    }
   ],
   "source": [
    "# 이숭무의 계좌번호 1111에는 100원이 들어 있습니다.\n",
    "a = f\"{name}의 계좌번호 {account}에는 {money}원이 들어 있습니다.\"\n",
    "print(a)"
   ]
  },
  {
   "cell_type": "code",
   "execution_count": 108,
   "id": "b53ab0b0",
   "metadata": {},
   "outputs": [
    {
     "name": "stdout",
     "output_type": "stream",
     "text": [
      "5\n",
      "23\n",
      "need\n",
      "need\n",
      "23\n",
      "12\n",
      "-1\n",
      "23\n",
      "23\n",
      "12\n",
      "33\n",
      "33\n",
      "Life is too short, You need python\n"
     ]
    }
   ],
   "source": [
    "# 문자열을 가공하기 위한 문자열 함수\n",
    "a = 'Life is too short, You need python'\n",
    "print(a.count('o'))\n",
    "print(a.find('n'))\n",
    "print(a[a.find('n') : a.find('n') + 4])\n",
    "print(a[23 : 23 + 4])\n",
    "print(a.find('need'))\n",
    "print(a.find('s', 7))\n",
    "print(a.find('x')) # -1\n",
    "print(a.index('n'))\n",
    "print(a.index('need'))\n",
    "print(a.index('s', 7))\n",
    "#print(a.index('x')) # -1 # 실행 오류\\\n",
    "print(a.rindex('n'))\n",
    "print(a.rfind('n'))"
   ]
  },
  {
   "cell_type": "code",
   "execution_count": 134,
   "id": "2aa5cb08",
   "metadata": {},
   "outputs": [
    {
     "name": "stdout",
     "output_type": "stream",
     "text": [
      "Life is too short, You need python\n",
      "life is too short, you need python\n",
      "LIFE IS TOO SHORT, YOU NEED PYTHON\n",
      "Life is too short, You need python\n",
      "['Life', 'is', 'too', 'short,', 'You', 'need', 'python']\n",
      "['Life', 'is', 'too', 'short,', 'You', 'need', 'python']\n",
      "abcd\n",
      "   ab cd  \n",
      "ab cd\n",
      "   ab cd\n",
      "ab cd  \n",
      "cabd\n",
      "Life is too short, You need python\n",
      "Your leg is too short, You need python\n",
      "True\n",
      "False\n",
      "True\n",
      "False\n",
      "False\n"
     ]
    }
   ],
   "source": [
    "print(a)\n",
    "print(a.lower())\n",
    "print(a.upper())\n",
    "print(a)\n",
    "l = a.split() # 공백문자가 구분문자. ㅡ\n",
    "print(l) # 리스트로 반환\n",
    "s = \"Life:is:too:short,:You:need:python\"\n",
    "l = s.split(\":\") # :이 구분문자임\n",
    "print(l)\n",
    "print(\"abcd\")\n",
    "s = \"   ab cd  \"\n",
    "print(s)\n",
    "\n",
    "print(s.strip())\n",
    "print(s.rstrip())\n",
    "print(s.lstrip())\n",
    "s = \"abcabdab\"\n",
    "print(s.strip(\"ab\"))\n",
    "a = \"Life is too short, You need python\"\n",
    "print(a) # Your leg is too short, You need python\n",
    "print(a.replace(\"Life\",\"Your leg\"))\n",
    "digit = \"01071461970\"\n",
    "print(digit.isdigit()) # True\n",
    "digit = \"010-7146-1970\"\n",
    "print(digit.isdigit()) # False\n",
    "alpha = \"abcd\"\n",
    "print(alpha.isalpha()) # True\n",
    "alpha = \"ab cd\"\n",
    "print(alpha.isalpha()) # False\n",
    "print(a.islower())\n",
    "print(a.isupper())"
   ]
  },
  {
   "cell_type": "code",
   "execution_count": 143,
   "id": "ab862de2",
   "metadata": {},
   "outputs": [
    {
     "name": "stdout",
     "output_type": "stream",
     "text": [
      "['이숭무', '이상범', '이장범']\n",
      "<class 'int'>\n",
      "<class 'str'>\n",
      "<class 'list'>\n",
      "['이숭무', 100, 10.5]\n"
     ]
    }
   ],
   "source": [
    "# 숫자 리터널 : 정수 , 실수 : 10\n",
    "# 문자열 리터널 : \"a\" ,'a', '''a''', \"\"\"a\"\"\" ,\"10\", a:변수 : 영어, 한국어, 중국어\n",
    "# 리스트 자료형 : [] \n",
    "l = [\"이숭무\",\"이상범\",\"이장범\"] # 문자열이 있는 리스트\n",
    "print(l)\n",
    "# 각각의 자료형 확인\n",
    "i = 10\n",
    "str1 = \"이숭무\"\n",
    "print(type(i))\n",
    "print(type(str1))\n",
    "print(type(l))\n",
    "l = [\"이숭무\",100,10.5] # 혼합형 리스트\n",
    "print(l)"
   ]
  },
  {
   "cell_type": "code",
   "execution_count": 147,
   "id": "7043c5d0",
   "metadata": {},
   "outputs": [
    {
     "name": "stdout",
     "output_type": "stream",
     "text": [
      "['이숭무', 35, 175.5, [1, 2, 3]]\n",
      "[[1, 2, 3], [4, 5, 6]]\n",
      "[]\n",
      "['Life', 'is', 'too', 'short']\n"
     ]
    }
   ],
   "source": [
    "a  = [\"이숭무\" , 35 , 175.5 , [1,2,3] ] # 리스트를 포함한 혼합형 리스트\n",
    "print(a)\n",
    "a = [[1,2,3], [4,5,6]] # 리스트를 포함한 리스트\n",
    "print(a)\n",
    "a = [] # 빈리스트\n",
    "print(a)\n",
    "a = \"Life:is:too:short\"\n",
    "c = a.split(\":\")\n",
    "print(c)"
   ]
  },
  {
   "cell_type": "code",
   "execution_count": 158,
   "id": "a0e91b16",
   "metadata": {},
   "outputs": [
    {
     "name": "stdout",
     "output_type": "stream",
     "text": [
      "Life is too short\n",
      "t\n",
      "too\n",
      "<class 'str'>\n",
      "o\n",
      "istoo\n",
      "too\n"
     ]
    }
   ],
   "source": [
    "a = \"Life is too short\"\n",
    "#    01234567890123456\n",
    "#              1\n",
    "print(a)\n",
    "print(a[8])\n",
    "l = ['Life', 'is', 'too', 'short']\n",
    "#      0       1     2       3\n",
    "#      4       3     2       1    -\n",
    "print(l[2])\n",
    "s = l[2]\n",
    "print(type(s)) # 문자열 : too \n",
    "#                         012\n",
    "print(l[2][1])\n",
    "print(l[1] + l[2]) #  'is' + 'too'\n",
    "print(l[-2])"
   ]
  },
  {
   "cell_type": "code",
   "execution_count": 159,
   "id": "ae2e860e",
   "metadata": {},
   "outputs": [
    {
     "name": "stdout",
     "output_type": "stream",
     "text": [
      "b\n"
     ]
    }
   ],
   "source": [
    "a = [1, 2, 3, ['a', 'b', 'c']]\n",
    "#    0  1  2        3\n",
    "#               0   1     2\n",
    "print(a[3][1])"
   ]
  },
  {
   "cell_type": "code",
   "execution_count": 166,
   "id": "5b2bb136",
   "metadata": {},
   "outputs": [
    {
     "name": "stdout",
     "output_type": "stream",
     "text": [
      "too\n",
      "['is', 'too']\n",
      "['is']\n",
      "is\n",
      "['Your leg', 'is', 'too', 'short']\n"
     ]
    }
   ],
   "source": [
    "a = \"Life is too short\"\n",
    "#    01234567890123456\n",
    "print(a[8:8+3]) # slicing\n",
    "l = [\"Life\",\"is\", \"too\", \"short\"]\n",
    "#      0      1     2       3\n",
    "#      4      3     2       1 -\n",
    "print(l[1:1+2])\n",
    "print(l[-3: -3+1])\n",
    "print(l[1])\n",
    "l[0] = \"Your leg\"\n",
    "print(l)"
   ]
  },
  {
   "cell_type": "code",
   "execution_count": 170,
   "id": "5cf84311",
   "metadata": {},
   "outputs": [
    {
     "name": "stdout",
     "output_type": "stream",
     "text": [
      "['Life', 'is', 'short']\n",
      "['short']\n"
     ]
    }
   ],
   "source": [
    "# 리스트 함수\n",
    "l = [\"Life\",\"is\", \"too\", \"short\"]\n",
    "del l[2] # ['Life', 'is', 'short']\n",
    "print(l) \n",
    "del l[0:0+2]\n",
    "print(l)"
   ]
  },
  {
   "cell_type": "code",
   "execution_count": 174,
   "id": "2f2cacc9",
   "metadata": {},
   "outputs": [
    {
     "name": "stdout",
     "output_type": "stream",
     "text": [
      "['Life']\n",
      "['Life', 'is']\n",
      "['Life', 'is', 'too']\n",
      "['Life', 'is', 'too', 'short']\n"
     ]
    }
   ],
   "source": [
    "l = [\"Life\",\"is\", \"too\", \"short\"]\n",
    "del l[1:]\n",
    "print(l)\n",
    "l.append('is')\n",
    "print(l)\n",
    "l.append(\"too\")\n",
    "print(l)\n",
    "l.append(\"short\")\n",
    "print(l)"
   ]
  },
  {
   "cell_type": "code",
   "execution_count": 176,
   "id": "3ed4009a",
   "metadata": {},
   "outputs": [
    {
     "name": "stdout",
     "output_type": "stream",
     "text": [
      "[1, 2, 3, 4]\n"
     ]
    }
   ],
   "source": [
    "a = [1, 4, 2, 3]\n",
    "# 데이터를 정렬\n",
    "a.sort() # 실제 데이터가 변경이 됨\n",
    "print(a)\n",
    "a = [1, 4, 2, 3]\n"
   ]
  }
 ],
 "metadata": {
  "kernelspec": {
   "display_name": "Python 3 (ipykernel)",
   "language": "python",
   "name": "python3"
  },
  "language_info": {
   "codemirror_mode": {
    "name": "ipython",
    "version": 3
   },
   "file_extension": ".py",
   "mimetype": "text/x-python",
   "name": "python",
   "nbconvert_exporter": "python",
   "pygments_lexer": "ipython3",
   "version": "3.10.4"
  }
 },
 "nbformat": 4,
 "nbformat_minor": 5
}
